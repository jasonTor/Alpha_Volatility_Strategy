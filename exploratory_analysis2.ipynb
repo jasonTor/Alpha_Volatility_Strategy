{
 "cells": [
  {
   "cell_type": "code",
   "execution_count": 3,
   "id": "d7d6f4d7",
   "metadata": {},
   "outputs": [],
   "source": [
    "import numpy as np\n",
    "from scipy.stats import norm\n",
    "import pandas as pd\n",
    "import matplotlib.pyplot as plt\n",
    "import matplotlib.dates as mdates\n",
    "\n",
    "\n",
    "from sklearn.linear_model import LinearRegression"
   ]
  },
  {
   "cell_type": "code",
   "execution_count": 245,
   "id": "a353751e",
   "metadata": {},
   "outputs": [],
   "source": [
    "df_train = pd.read_pickle(\"df_train.pkl\")\n",
    "df_validation = pd.read_pickle(\"df_validation.pkl\")\n",
    "df_test = pd.read_pickle(\"df_test.pkl\")\n",
    "df_price = pd.read_pickle(\"df_price.pkl\")\n",
    "df_option = pd.read_pickle(\"df_merged.pkl\")"
   ]
  },
  {
   "cell_type": "code",
   "execution_count": 90,
   "id": "f674029a",
   "metadata": {},
   "outputs": [],
   "source": [
    "from sklearn.linear_model import LinearRegression"
   ]
  },
  {
   "cell_type": "code",
   "execution_count": 772,
   "id": "087783a9",
   "metadata": {},
   "outputs": [],
   "source": [
    "def print_df(df):\n",
    "    for idx, row in df.iterrows():\n",
    "        print(\", \".join([f\"{col}={row[col]}\" for col in df.columns]))"
   ]
  },
  {
   "cell_type": "markdown",
   "id": "e8c39d4c",
   "metadata": {},
   "source": [
    "# **STATISTICAL STRATEGY : exploratory analysis**"
   ]
  },
  {
   "cell_type": "markdown",
   "id": "25c32717",
   "metadata": {},
   "source": [
    "As a first step, we use a manual and heuristic statistical approach to study and predict volatility. Instead of using complex mathematical models or machine learning, we build and test alphas based on simple observations, statistical patterns, and market intuition. The core idea is to leverage well-known features of volatility such as clustering, mean reversion, term structure, the gap between implied and realized volatility, and cross-reactions between IV and RV and translate them into tradable signals.\n",
    "\n",
    "**Advantages**:\n",
    "- Allows quick exploration of potential behaviors without complex models.\n",
    "- Builds an initial understanding and intuition of IV vs RV dynamics.\n",
    "- Strategies are easy to interpret, reproduce, and explain.\n",
    "\n",
    "**Drawbacks**:\n",
    "- Can quickly become obsolete, fragile, and unable to capture complex dynamics.\n",
    "- Limited generalization power.\n",
    "- Markets often behave counter-intuitively: simple rules like “if volatility goes up, it will keep going up” can be misleading. The most robust signals are sometimes the ones that seem the most counter-intuitive."
   ]
  },
  {
   "cell_type": "markdown",
   "id": "a75f63ba",
   "metadata": {},
   "source": [
    "### **1st strategy**:\n",
    "\n",
    "For a given quoted straddle, we look at the absolute log-returns of the last 3 days and the average IV (all maturities) over the same period. \n",
    "The strategy that performed best on df_train is the following:\n",
    "\n",
    "- **LONG signal:**  \n",
    "  If |log-return| is increasing and IV is also increasing → **LONG**\n",
    "\n",
    "- **SHORT signal:**  \n",
    "  If |log-return| is decreasing and IV is also decreasing →  **SHORT**."
   ]
  },
  {
   "cell_type": "code",
   "execution_count": 680,
   "id": "1f1e97c2",
   "metadata": {},
   "outputs": [],
   "source": [
    "def is_sorted(lst):\n",
    "    return all(lst[i] <= lst[i+1] for i in range(len(lst)-1))\n",
    "\n",
    "def is_sorted_desc(lst):\n",
    "    return all(lst[i] >= lst[i+1] for i in range(len(lst)-1))"
   ]
  },
  {
   "cell_type": "code",
   "execution_count": 604,
   "id": "345b1057",
   "metadata": {},
   "outputs": [
    {
     "name": "stdout",
     "output_type": "stream",
     "text": [
      "succes of 50.24875621890548% on 603 on df_train\n"
     ]
    }
   ],
   "source": [
    "d1 = {}\n",
    "d2 = {}\n",
    "for d in df_train[df_train['Date'] > \" 2016-03-01\"]['Date'].unique():\n",
    "    id_date = df_price['Date'].tolist().index(d)\n",
    "    d1[d] = df_price['Price'].iloc[id_date - 3:id_date+1]\n",
    "    id_date = df_train.groupby('Date')['IV'].mean().index.tolist().index(d)\n",
    "    d2[d] = df_train.groupby('Date')['IV'].mean()[id_date - 2:id_date+1]\n",
    "\n",
    "for d in d1.keys():\n",
    "    d1[d] = np.abs(np.log(d1[d]/d1[d].shift(1)).dropna())\n",
    "\n",
    "\n",
    "trade_valid = []\n",
    "df_fil = df_train[df_train['Date'] > \" 2016-03-01\"].copy()\n",
    "for _,row in df_fil.iterrows():\n",
    "    d = row['Date']\n",
    "    if (is_sorted(d1[d].tolist())) and (is_sorted(d2[d].tolist())): # LONG \n",
    "        trade_valid.append(row['vol_real'] > row['IV'])\n",
    "    elif (is_sorted_desc(d1[d].tolist())) and (is_sorted_desc(d2[d].tolist())): # SHORT\n",
    "        trade_valid.append(row['vol_real'] < row['IV'])\n",
    "\n",
    "print(f\"succes of {np.mean(trade_valid) * 100}% on {len(trade_valid)} on df_train\")"
   ]
  },
  {
   "cell_type": "code",
   "execution_count": 605,
   "id": "753ef633",
   "metadata": {},
   "outputs": [
    {
     "name": "stdout",
     "output_type": "stream",
     "text": [
      "succes of 55.46218487394958% on 119 on df_validation\n"
     ]
    }
   ],
   "source": [
    "d1 = {}\n",
    "d2 = {}\n",
    "for d in df_validation[df_validation['Date'] > \" 2021-01-27\"]['Date'].unique():\n",
    "    id_date = df_price['Date'].tolist().index(d)\n",
    "    d1[d] = df_price['Price'].iloc[id_date - 3:id_date+1]\n",
    "    id_date = df_validation.groupby('Date')['IV'].mean().index.tolist().index(d)\n",
    "    d2[d] = df_validation.groupby('Date')['IV'].mean()[id_date - 2:id_date+1]\n",
    "\n",
    "for d in d1.keys():\n",
    "    d1[d] = np.abs(np.log(d1[d]/d1[d].shift(1)).dropna())\n",
    "\n",
    "trade_valid = []\n",
    "df_fil = df_validation[df_validation['Date'] > \" 2021-01-27\"].copy()\n",
    "for _,row in df_fil.iterrows():\n",
    "    d = row['Date']\n",
    "    if (is_sorted(d1[d].tolist())) and (is_sorted(d2[d].tolist())): # LONG \n",
    "        trade_valid.append(row['vol_real'] > row['IV'])\n",
    "    elif (is_sorted_desc(d1[d].tolist())) and ( is_sorted_desc(d2[d].tolist())): # SHORT\n",
    "        trade_valid.append(row['vol_real'] < row['IV'])\n",
    "print(f\"succes of {np.mean(trade_valid) * 100}% on {len(trade_valid)} on df_validation\")"
   ]
  },
  {
   "cell_type": "markdown",
   "id": "c04f6313",
   "metadata": {},
   "source": [
    "### **2nd strategy**:\n",
    "\n",
    "For a given quoted straddle, we will study the **term structure** dynamic (how maturity affects IV)"
   ]
  },
  {
   "cell_type": "code",
   "execution_count": 86,
   "id": "24e7d3de",
   "metadata": {},
   "outputs": [
    {
     "name": "stdout",
     "output_type": "stream",
     "text": [
      "There are 33.48623853211009% RV>IV (with 872 straddle) when the term structure is in ASCENDING order\n"
     ]
    }
   ],
   "source": [
    "trade_valid = []\n",
    "df_filtered = df_train[df_train['Date'] > \" 2016-03-01\"][['Date','day_to_maturity','IV','vol_real']].copy()\n",
    "for d in df_filtered['Date'].unique().tolist():\n",
    "    df_date = df_filtered[df_filtered['Date'] == d].sort_values(by='day_to_maturity', ascending=True)\n",
    "    if is_sorted(df_date['IV'].tolist()):\n",
    "        list_iv = df_date['IV'].tolist()\n",
    "        list_rv = df_date['vol_real'].tolist()\n",
    "        trade_valid = trade_valid + [list_rv[i] > list_iv[i] for i in range(len(df_date))]\n",
    "print(f\"There are {np.mean(trade_valid)*100}% RV>IV (with {len(trade_valid)} straddle) when the term structure is in ASCENDING order\")\n"
   ]
  },
  {
   "cell_type": "code",
   "execution_count": 89,
   "id": "f81e77b1",
   "metadata": {},
   "outputs": [
    {
     "name": "stdout",
     "output_type": "stream",
     "text": [
      "There are 51.01123595505618% RV<IV (with 890 straddle) when the term structure is in DESCENDING order\n"
     ]
    }
   ],
   "source": [
    "trade_valid = []\n",
    "df_filtered = df_train[df_train['Date'] > \" 2016-03-01\"][['Date','day_to_maturity','IV','vol_real']].copy()\n",
    "for d in df_filtered['Date'].unique().tolist():\n",
    "    df_date = df_filtered[df_filtered['Date'] == d].sort_values(by='day_to_maturity', ascending=True)\n",
    "    if is_sorted_desc(df_date['IV'].tolist()):\n",
    "        list_iv = df_date['IV'].tolist()\n",
    "        list_rv = df_date['vol_real'].tolist()\n",
    "        trade_valid = trade_valid + [list_rv[i] < list_iv[i] for i in range(len(df_date))]\n",
    "print(f\"There are {np.mean(trade_valid)*100}% RV<IV (with {len(trade_valid)} straddle) when the term structure is in DESCENDING order\")\n"
   ]
  },
  {
   "cell_type": "markdown",
   "id": "66589e2e",
   "metadata": {},
   "source": [
    "Which is still lesser than the 62% of accuracy of SHORT postion in df_train..."
   ]
  },
  {
   "cell_type": "markdown",
   "id": "d4dd9d1b",
   "metadata": {},
   "source": [
    "Because of the structural bias favor short vol, we'll keep the short signal so we can generate positive PNL:\n",
    "\n",
    "- **SHORT signal:**  \n",
    "  If the term structure is increasing → **SHORT**"
   ]
  },
  {
   "cell_type": "code",
   "execution_count": 105,
   "id": "7866d834",
   "metadata": {},
   "outputs": [],
   "source": [
    "dic_slope = {}\n",
    "trade_valid = []\n",
    "df_filtered = df_train[df_train['Date'] > \" 2016-03-01\"][['Date','day_to_maturity','IV','vol_real']].copy()\n",
    "for d in df_filtered['Date'].unique().tolist():\n",
    "    df_date = df_filtered[df_filtered['Date'] == d].sort_values(by='day_to_maturity', ascending=True)\n",
    "    if is_sorted(df_date['IV'].tolist()):\n",
    "        list_iv = df_date['IV'].tolist()\n",
    "        list_rv = df_date['vol_real'].tolist()\n",
    "        Y = list_iv\n",
    "        X = df_date['day_to_maturity'].tolist()\n",
    "\n",
    "        X = np.array(X).reshape(-1, 1)\n",
    "        Y = np.array(Y)\n",
    "\n",
    "        model = LinearRegression()\n",
    "        model.fit(X, Y)\n",
    "\n",
    "        dic_slope[d] = model.coef_[0]\n",
    "        #trade_valid = trade_valid + [list_rv[i] > list_iv[i] for i in range(len(df_date))]\n",
    "\n",
    "#print(f\"There are {np.mean(trade_valid)*100}% RV>IV (with {len(trade_valid)} straddle) when the term structure is in ASCENDING order\")\n"
   ]
  },
  {
   "cell_type": "markdown",
   "id": "778417b8",
   "metadata": {},
   "source": [
    "We now try to optimize the short signal. We perform linear regressions on periods with an increasing term structure to identify slope levels that correspond to a robust short signal.\n",
    "\n",
    "The goal is to find a quantile threshold (threshold) so that the short signal is strong when the slope is above this quantile, among all slopes calculated on df_train."
   ]
  },
  {
   "cell_type": "code",
   "execution_count": 118,
   "id": "36c1ae5d",
   "metadata": {},
   "outputs": [
    {
     "name": "stdout",
     "output_type": "stream",
     "text": [
      "There are 66.3594470046083% RV<IV (with 868 straddle) when the term structure is in ASCENDING order\n"
     ]
    }
   ],
   "source": [
    "threshold = 0\n",
    "trade_valid = []\n",
    "for d in df_filtered['Date'].unique().tolist():\n",
    "    df_date = df_filtered[df_filtered['Date'] == d].sort_values(by='day_to_maturity', ascending=True)\n",
    "    if is_sorted(df_date['IV'].tolist()):\n",
    "        if dic_slope[d] > np.percentile(list(dic_slope.values()),threshold):\n",
    "            list_iv = df_date['IV'].tolist()\n",
    "            list_rv = df_date['vol_real'].tolist()\n",
    "            trade_valid = trade_valid + [list_rv[i] < list_iv[i] for i in range(len(df_date))]\n",
    "\n",
    "print(f\"There are {np.mean(trade_valid)*100}% RV<IV (with {len(trade_valid)} straddle) when the term structure is in ASCENDING order\")\n"
   ]
  },
  {
   "cell_type": "markdown",
   "id": "5349864d",
   "metadata": {},
   "source": [
    "Let's calibrate the theshold on df_train"
   ]
  },
  {
   "cell_type": "code",
   "execution_count": null,
   "id": "7b415d7b",
   "metadata": {},
   "outputs": [
    {
     "name": "stdout",
     "output_type": "stream",
     "text": [
      "Threshold = 0.00, success rate = 66.36% on 868 straddles\n",
      "Threshold = 0.01, success rate = 66.32% on 864 straddles\n",
      "Threshold = 0.02, success rate = 66.20% on 855 straddles\n",
      "Threshold = 0.03, success rate = 66.75% on 845 straddles\n",
      "Threshold = 0.04, success rate = 66.95% on 835 straddles\n",
      "Threshold = 0.05, success rate = 66.71% on 826 straddles\n",
      "Threshold = 0.06, success rate = 66.55% on 822 straddles\n",
      "Threshold = 0.07, success rate = 66.79% on 813 straddles\n",
      "Threshold = 0.08, success rate = 66.92% on 804 straddles\n",
      "Threshold = 0.09, success rate = 66.50% on 794 straddles\n",
      "Threshold = 0.10, success rate = 66.50% on 785 straddles\n",
      "Threshold = 0.11, success rate = 66.79% on 780 straddles\n",
      "Threshold = 0.12, success rate = 66.45% on 772 straddles\n",
      "Threshold = 0.13, success rate = 66.10% on 764 straddles\n",
      "Threshold = 0.14, success rate = 66.31% on 754 straddles\n",
      "Threshold = 0.15, success rate = 66.31% on 745 straddles\n",
      "Threshold = 0.16, success rate = 66.08% on 740 straddles\n",
      "Threshold = 0.17, success rate = 65.89% on 730 straddles\n",
      "Threshold = 0.18, success rate = 65.46% on 721 straddles\n",
      "Threshold = 0.19, success rate = 65.59% on 712 straddles\n",
      "Threshold = 0.20, success rate = 65.43% on 703 straddles\n",
      "Threshold = 0.21, success rate = 65.71% on 694 straddles\n",
      "Threshold = 0.22, success rate = 65.51% on 690 straddles\n",
      "Threshold = 0.23, success rate = 65.35% on 681 straddles\n",
      "Threshold = 0.24, success rate = 64.88% on 672 straddles\n",
      "Threshold = 0.25, success rate = 64.35% on 662 straddles\n",
      "Threshold = 0.26, success rate = 63.86% on 653 straddles\n",
      "Threshold = 0.27, success rate = 63.89% on 648 straddles\n",
      "Threshold = 0.28, success rate = 64.11% on 638 straddles\n",
      "Threshold = 0.29, success rate = 64.39% on 629 straddles\n",
      "Threshold = 0.30, success rate = 63.87% on 620 straddles\n",
      "Threshold = 0.31, success rate = 64.16% on 611 straddles\n",
      "Threshold = 0.32, success rate = 64.52% on 606 straddles\n",
      "Threshold = 0.33, success rate = 64.77% on 596 straddles\n",
      "Threshold = 0.34, success rate = 65.08% on 587 straddles\n",
      "Threshold = 0.35, success rate = 64.82% on 577 straddles\n",
      "Threshold = 0.36, success rate = 64.55% on 567 straddles\n",
      "Threshold = 0.37, success rate = 64.23% on 562 straddles\n",
      "Threshold = 0.38, success rate = 64.25% on 551 straddles\n",
      "Threshold = 0.39, success rate = 63.84% on 542 straddles\n",
      "Threshold = 0.40, success rate = 63.35% on 532 straddles\n",
      "Threshold = 0.41, success rate = 63.60% on 522 straddles\n",
      "Threshold = 0.42, success rate = 63.80% on 511 straddles\n",
      "Threshold = 0.43, success rate = 64.03% on 506 straddles\n",
      "Threshold = 0.44, success rate = 64.44% on 495 straddles\n",
      "Threshold = 0.45, success rate = 64.68% on 487 straddles\n",
      "Threshold = 0.46, success rate = 63.94% on 477 straddles\n",
      "Threshold = 0.47, success rate = 63.46% on 468 straddles\n",
      "Threshold = 0.48, success rate = 64.15% on 463 straddles\n",
      "Threshold = 0.49, success rate = 64.46% on 453 straddles\n",
      "Threshold = 0.50, success rate = 65.09% on 444 straddles\n",
      "Threshold = 0.51, success rate = 64.45% on 436 straddles\n",
      "Threshold = 0.52, success rate = 64.55% on 426 straddles\n",
      "Threshold = 0.53, success rate = 64.85% on 421 straddles\n",
      "Threshold = 0.54, success rate = 64.96% on 411 straddles\n",
      "Threshold = 0.55, success rate = 64.59% on 401 straddles\n",
      "Threshold = 0.56, success rate = 65.82% on 392 straddles\n",
      "Threshold = 0.57, success rate = 67.54% on 382 straddles\n",
      "Threshold = 0.58, success rate = 67.11% on 377 straddles\n",
      "Threshold = 0.59, success rate = 67.57% on 367 straddles\n",
      "Threshold = 0.60, success rate = 67.23% on 357 straddles\n",
      "Threshold = 0.61, success rate = 68.88% on 347 straddles\n",
      "Threshold = 0.62, success rate = 68.45% on 336 straddles\n",
      "Threshold = 0.63, success rate = 67.58% on 327 straddles\n",
      "Threshold = 0.64, success rate = 67.08% on 322 straddles\n",
      "Threshold = 0.65, success rate = 67.41% on 313 straddles\n",
      "Threshold = 0.66, success rate = 67.32% on 306 straddles\n",
      "Threshold = 0.67, success rate = 67.68% on 297 straddles\n",
      "Threshold = 0.68, success rate = 68.20% on 283 straddles\n",
      "Threshold = 0.69, success rate = 69.42% on 278 straddles\n",
      "Threshold = 0.70, success rate = 68.28% on 268 straddles\n",
      "Threshold = 0.71, success rate = 67.83% on 258 straddles\n",
      "Threshold = 0.72, success rate = 66.67% on 249 straddles\n",
      "Threshold = 0.73, success rate = 65.69% on 239 straddles\n",
      "Threshold = 0.74, success rate = 67.09% on 234 straddles\n",
      "Threshold = 0.75, success rate = 68.30% on 224 straddles\n",
      "Threshold = 0.76, success rate = 69.95% on 213 straddles\n",
      "Threshold = 0.77, success rate = 68.97% on 203 straddles\n",
      "Threshold = 0.78, success rate = 69.95% on 193 straddles\n",
      "Threshold = 0.79, success rate = 69.15% on 188 straddles\n",
      "Threshold = 0.80, success rate = 69.06% on 181 straddles\n",
      "Threshold = 0.81, success rate = 69.59% on 171 straddles\n",
      "Threshold = 0.82, success rate = 70.99% on 162 straddles\n",
      "Threshold = 0.83, success rate = 70.39% on 152 straddles\n",
      "Threshold = 0.84, success rate = 70.83% on 144 straddles\n",
      "Threshold = 0.85, success rate = 70.50% on 139 straddles\n",
      "Threshold = 0.86, success rate = 72.09% on 129 straddles\n",
      "Threshold = 0.87, success rate = 75.63% on 119 straddles\n",
      "Threshold = 0.88, success rate = 73.15% on 108 straddles\n",
      "Threshold = 0.89, success rate = 70.41% on 98 straddles\n",
      "Threshold = 0.90, success rate = 73.12% on 93 straddles\n",
      "Threshold = 0.91, success rate = 74.70% on 83 straddles\n",
      "Threshold = 0.92, success rate = 73.97% on 73 straddles\n",
      "Threshold = 0.93, success rate = 69.84% on 63 straddles\n",
      "Threshold = 0.94, success rate = 69.81% on 53 straddles\n",
      "Threshold = 0.95, success rate = 69.39% on 49 straddles\n",
      "Threshold = 0.96, success rate = 82.05% on 39 straddles\n",
      "Threshold = 0.97, success rate = 79.31% on 29 straddles\n",
      "Threshold = 0.98, success rate = 80.00% on 20 straddles\n",
      "Threshold = 0.99, success rate = 100.00% on 9 straddles\n",
      "\n",
      "Best threshold = 0.99 with success rate = 100.00%\n"
     ]
    }
   ],
   "source": [
    "threshold_range = np.arange(0, 1.01, 0.01)  \n",
    "\n",
    "best_threshold = None\n",
    "best_rate = -np.inf\n",
    "\n",
    "dates_unique = df_filtered['Date'].unique().tolist()\n",
    "dic_slope_values = list(dic_slope.values())\n",
    "\n",
    "for th in threshold_range:\n",
    "    trade_valid = []\n",
    "    for d in dates_unique:\n",
    "        df_date = df_filtered[df_filtered['Date'] == d].sort_values(by='day_to_maturity')\n",
    "        if is_sorted(df_date['IV'].tolist()):\n",
    "            if dic_slope[d] > np.percentile(dic_slope_values, th*100):\n",
    "                list_iv = df_date['IV'].tolist()\n",
    "                list_rv = df_date['vol_real'].tolist()\n",
    "                trade_valid.extend([list_rv[i] < list_iv[i] for i in range(len(df_date))])\n",
    "\n",
    "    if trade_valid: \n",
    "        rate = np.mean(trade_valid)\n",
    "        print(f\"Threshold = {th:.2f}, success rate = {rate*100:.2f}% on {len(trade_valid)} straddles\")\n",
    "        if rate > best_rate:\n",
    "            best_rate = rate\n",
    "            best_threshold = th\n",
    "\n",
    "print(f\"\\nBest threshold = {best_threshold:.2f} with success rate = {best_rate*100:.2f}%\")"
   ]
  },
  {
   "cell_type": "markdown",
   "id": "62f6b169",
   "metadata": {},
   "source": [
    "After calibration, the threshold seems to have little effect. We will therefore stick with the simple initial strategy."
   ]
  },
  {
   "cell_type": "markdown",
   "id": "978247aa",
   "metadata": {},
   "source": [
    "Let's test the result on df_validation directly on `main.py`"
   ]
  },
  {
   "cell_type": "markdown",
   "id": "a4e67e5a",
   "metadata": {},
   "source": [
    "## **3rd strategy**"
   ]
  },
  {
   "cell_type": "markdown",
   "id": "d8c9477a",
   "metadata": {},
   "source": [
    "**We will try a strategy based on the spread : historical_RV(day_to_mat) - IV(day_to_mat historical)**"
   ]
  },
  {
   "cell_type": "code",
   "execution_count": 607,
   "id": "d05ecc3d",
   "metadata": {},
   "outputs": [],
   "source": [
    "df_filtered = pd.concat([df_train,df_validation], ignore_index = True)\n",
    "df_filtered = df_filtered[df_filtered['Date'] > \" 2016-03-01\"]"
   ]
  },
  {
   "cell_type": "code",
   "execution_count": 608,
   "id": "614a414f",
   "metadata": {},
   "outputs": [],
   "source": [
    "def get_prices_list_historical(date, nb_period):\n",
    "        ''' This function returns the list of spot prices for the nb_period preceding the date \n",
    "        provided as a parameter.\n",
    "\n",
    "        RETURNS\n",
    "        -------\n",
    "        type : list\n",
    "        '''\n",
    "        list_date = df_price['Date'].tolist()\n",
    "        id_date = list_date.index(date)\n",
    "        filtered = df_price.iloc[id_date - nb_period : id_date + 1]\n",
    "        return filtered['Price'].tolist()\n",
    "\n",
    "def get_realized_volatility(prices):\n",
    "    '''This function calculates the annualized realized volatility for a \n",
    "    given list of stock prices provided as the parameter prices.\n",
    "\n",
    "    RETURNS\n",
    "    -------\n",
    "    type : float\n",
    "    '''\n",
    "    log_returns = np.diff(np.log(prices))\n",
    "    realized_vol = np.sqrt(np.mean(log_returns ** 2) * 252)\n",
    "    return realized_vol"
   ]
  },
  {
   "cell_type": "code",
   "execution_count": 609,
   "id": "f921a4ae",
   "metadata": {},
   "outputs": [
    {
     "data": {
      "text/plain": [
       "0.3506556812075462"
      ]
     },
     "execution_count": 609,
     "metadata": {},
     "output_type": "execute_result"
    }
   ],
   "source": [
    "get_realized_volatility(get_prices_list_historical(\" 2016-03-02\", 30))"
   ]
  },
  {
   "cell_type": "code",
   "execution_count": 610,
   "id": "ab4cba7d",
   "metadata": {},
   "outputs": [],
   "source": [
    "df_filtered = df_train[df_train['Date'] > \" 2016-03-01\"]"
   ]
  },
  {
   "cell_type": "code",
   "execution_count": 611,
   "id": "0efdac4a",
   "metadata": {},
   "outputs": [],
   "source": [
    "spread_realized1 = [] # among positive historical spread (rv - iv)\n",
    "spread_realized2 = [] # among negative historical spread (rv - iv)\n",
    "for _,row in df_filtered.iterrows():\n",
    "    if get_realized_volatility(get_prices_list_historical(row['Date'],int(row['day_to_maturity']))) > row['IV']:\n",
    "        spread_realized1.append(row['vol_real'] - row['IV'])\n",
    "    elif get_realized_volatility(get_prices_list_historical(row['Date'],int(row['day_to_maturity']))) < row['IV']:\n",
    "        spread_realized2.append(row['vol_real'] - row['IV'])\n"
   ]
  },
  {
   "cell_type": "markdown",
   "id": "a06af9c9",
   "metadata": {},
   "source": [
    "Statistics on RV - IV when RV_historical(day_to_mat) - IV **>** 0"
   ]
  },
  {
   "cell_type": "code",
   "execution_count": 612,
   "id": "83085c0f",
   "metadata": {},
   "outputs": [
    {
     "data": {
      "text/plain": [
       "count    2501.000000\n",
       "mean        0.004869\n",
       "std         0.140148\n",
       "min        -0.335740\n",
       "25%        -0.060660\n",
       "50%        -0.028390\n",
       "75%         0.019330\n",
       "max         0.790100\n",
       "dtype: float64"
      ]
     },
     "execution_count": 612,
     "metadata": {},
     "output_type": "execute_result"
    }
   ],
   "source": [
    "pd.Series(spread_realized1).describe()"
   ]
  },
  {
   "cell_type": "markdown",
   "id": "56b6f820",
   "metadata": {},
   "source": [
    "Statistics on RV - IV when RV_historical(day_to_mat) - IV **<** 0"
   ]
  },
  {
   "cell_type": "code",
   "execution_count": 613,
   "id": "ac52080a",
   "metadata": {},
   "outputs": [
    {
     "data": {
      "text/plain": [
       "count    3462.000000\n",
       "mean       -0.001687\n",
       "std         0.086539\n",
       "min        -0.249800\n",
       "25%        -0.052853\n",
       "50%        -0.011175\n",
       "75%         0.032195\n",
       "max         0.723810\n",
       "dtype: float64"
      ]
     },
     "execution_count": 613,
     "metadata": {},
     "output_type": "execute_result"
    }
   ],
   "source": [
    "pd.Series(spread_realized2).describe()"
   ]
  },
  {
   "cell_type": "code",
   "execution_count": null,
   "id": "04b6c8b9",
   "metadata": {},
   "outputs": [],
   "source": [
    "spread = [] # historical_RV(past days) - IV\n",
    "spread_realized = [] # real futur RV - IV\n",
    "for _,row in df_filtered.iterrows():\n",
    "    spread.append(get_realized_volatility(get_prices_list_historical(row['Date'],int(row['day_to_maturity']))) - row['IV'])\n",
    "    spread_realized.append(row['vol_real'] - row['IV'])"
   ]
  },
  {
   "cell_type": "code",
   "execution_count": 615,
   "id": "53b22a2b",
   "metadata": {},
   "outputs": [
    {
     "data": {
      "text/plain": [
       "count    5963.000000\n",
       "mean       -0.003894\n",
       "std         0.101483\n",
       "min        -0.373224\n",
       "25%        -0.068030\n",
       "50%        -0.018435\n",
       "75%         0.048472\n",
       "max         0.570276\n",
       "dtype: float64"
      ]
     },
     "execution_count": 615,
     "metadata": {},
     "output_type": "execute_result"
    }
   ],
   "source": [
    "pd.Series(spread).describe()"
   ]
  },
  {
   "cell_type": "code",
   "execution_count": 616,
   "id": "de691d4c",
   "metadata": {},
   "outputs": [
    {
     "name": "stdout",
     "output_type": "stream",
     "text": [
      "count    2501.000000\n",
      "mean        0.085594\n",
      "std         0.085768\n",
      "min         0.000166\n",
      "25%         0.029263\n",
      "50%         0.063575\n",
      "75%         0.109653\n",
      "max         0.570276\n",
      "dtype: float64\n",
      "count    3462.000000\n",
      "mean       -0.068540\n",
      "std         0.049601\n",
      "min        -0.373224\n",
      "25%        -0.094248\n",
      "50%        -0.059825\n",
      "75%        -0.031393\n",
      "max        -0.000042\n",
      "dtype: float64\n"
     ]
    }
   ],
   "source": [
    "spread_positif = [i for i in spread if i>0]\n",
    "spread_negatif = [i for i in spread if i<0]\n",
    "\n",
    "print(pd.Series(spread_positif).describe())\n",
    "print(pd.Series(spread_negatif).describe())\n"
   ]
  },
  {
   "cell_type": "code",
   "execution_count": 617,
   "id": "7f4048b6",
   "metadata": {},
   "outputs": [],
   "source": [
    "spread_realized_positif = []\n",
    "spread_realized_negatif = []\n",
    "for _,row in df_filtered.iterrows():\n",
    "    spr = get_realized_volatility(get_prices_list_historical(row['Date'],int(row['day_to_maturity']))) - row['IV']\n",
    "    if (spr in spread_positif) and (spr > np.percentile(spread_positif,90)):\n",
    "        spread_realized_positif.append(row['vol_real'] - row['IV'])\n",
    "    elif (spr in spread_negatif) and (spr < np.percentile(spread_negatif,10)):\n",
    "        spread_realized_negatif.append(row['vol_real'] - row['IV'])"
   ]
  },
  {
   "cell_type": "code",
   "execution_count": 618,
   "id": "149e9186",
   "metadata": {},
   "outputs": [
    {
     "name": "stdout",
     "output_type": "stream",
     "text": [
      "count    250.000000\n",
      "mean       0.001568\n",
      "std        0.196037\n",
      "min       -0.246990\n",
      "25%       -0.106497\n",
      "50%       -0.047645\n",
      "75%        0.015195\n",
      "max        0.790100\n",
      "dtype: float64\n",
      "count    347.000000\n",
      "mean      -0.000978\n",
      "std        0.087984\n",
      "min       -0.249800\n",
      "25%       -0.055890\n",
      "50%        0.006880\n",
      "75%        0.058775\n",
      "max        0.265820\n",
      "dtype: float64\n"
     ]
    }
   ],
   "source": [
    "print(pd.Series(spread_realized_positif).describe()) # Statistic of realized volatility - IV when the spread of historical vol - IV > quantile(0.9) of all positive spread\n",
    "print(pd.Series(spread_realized_negatif).describe()) # Statistic of realized volatility - IV when the spread of historical vol - IV < quantile(0.1) of all negative spread"
   ]
  },
  {
   "cell_type": "code",
   "execution_count": 619,
   "id": "c8c0d542",
   "metadata": {},
   "outputs": [
    {
     "data": {
      "image/png": "[encoded data removed]",
      "text/plain": [
       "<Figure size 1008x360 with 2 Axes>"
      ]
     },
     "metadata": {
      "needs_background": "light"
     },
     "output_type": "display_data"
    }
   ],
   "source": [
    "fig, axes = plt.subplots(1, 2, figsize=(14,5))\n",
    "\n",
    "axes[0].hist(spread_realized_negatif, bins=30, edgecolor='black', alpha=0.7)\n",
    "axes[0].set_title(\"Histogram spread_realized_negatif\")\n",
    "axes[0].set_xlabel(\"Values of RV - IV when the spread of historical vol - IV > quantile(0.9) of all positive spread \")\n",
    "axes[0].set_ylabel(\"Fréquence\")\n",
    "axes[0].grid(alpha=0.3)\n",
    "\n",
    "axes[1].hist(spread_realized_positif, bins=30, edgecolor='black', alpha=0.7)\n",
    "axes[1].set_title(\"Histogram spread_realized_positif\")\n",
    "axes[1].set_xlabel(\"Values of RV - IV when the spread of historical vol - IV < quantile(0.1) of all negative spread\")\n",
    "axes[1].set_ylabel(\"Fréquence\")\n",
    "axes[1].grid(alpha=0.3)\n",
    "\n",
    "plt.tight_layout()\n",
    "plt.show()"
   ]
  },
  {
   "cell_type": "code",
   "execution_count": 620,
   "id": "4852536e",
   "metadata": {},
   "outputs": [
    {
     "data": {
      "text/plain": [
       "0.0015681999999999975"
      ]
     },
     "execution_count": 620,
     "metadata": {},
     "output_type": "execute_result"
    }
   ],
   "source": [
    "pd.Series(spread_realized_positif).mean()"
   ]
  },
  {
   "cell_type": "code",
   "execution_count": 621,
   "id": "6a9550b1",
   "metadata": {},
   "outputs": [
    {
     "data": {
      "text/plain": [
       "-0.0009776945244956757"
      ]
     },
     "execution_count": 621,
     "metadata": {},
     "output_type": "execute_result"
    }
   ],
   "source": [
    "pd.Series(spread_realized_negatif).mean()"
   ]
  },
  {
   "cell_type": "markdown",
   "id": "ea73cec4",
   "metadata": {},
   "source": [
    "**OBSERVATION** : From the previous statistics, we observe that when historical volatility is significantly higher than implied volatility (i.e., when the spread RV – IV is above the 90th quantile among positive spreads), the option tends to be overpriced.\n",
    "Conversely, when the spread RV – IV is below the 10th quantile among negative spreads (i.e., when IV is much larger than historical volatility), then IV tends to be underpriced."
   ]
  },
  {
   "cell_type": "markdown",
   "id": "b2456b31",
   "metadata": {},
   "source": [
    "### **Strategy**\n",
    "\n",
    "- If (spread > quantile(spread_negatif,90%)) : **SHORT**\n",
    "- If (spread < quantile(spread_negatif,10%)) : **LONG**"
   ]
  },
  {
   "cell_type": "code",
   "execution_count": 623,
   "id": "8246f084",
   "metadata": {},
   "outputs": [
    {
     "name": "stdout",
     "output_type": "stream",
     "text": [
      "succes of 68.8% on 250 on SHORT\n"
     ]
    }
   ],
   "source": [
    "trade_valid=[]\n",
    "for _,row in df_filtered.iterrows():\n",
    "    spr = get_realized_volatility(get_prices_list_historical(row['Date'],int(row['day_to_maturity']))) - row['IV'] # spread \n",
    "    if (spr in spread_positif) and (spr > np.percentile(spread_positif,90)): # SHORT\n",
    "        trade_valid.append(row['vol_real'] < row['IV'])\n",
    "print(f\"succes of {np.mean(trade_valid) * 100}% on {len(trade_valid)} on SHORT\")"
   ]
  },
  {
   "cell_type": "code",
   "execution_count": 624,
   "id": "23d4aba0",
   "metadata": {},
   "outputs": [
    {
     "name": "stdout",
     "output_type": "stream",
     "text": [
      "succes of 52.1613832853026% on 347 on LONG\n"
     ]
    }
   ],
   "source": [
    "trade_valid=[]\n",
    "for _,row in df_filtered.iterrows():\n",
    "    spr = get_realized_volatility(get_prices_list_historical(row['Date'],int(row['day_to_maturity']))) - row['IV'] # spread \n",
    "    if (spr in spread_negatif) and (spr < np.percentile(spread_negatif,10)): # LONG\n",
    "        trade_valid.append(row['vol_real'] > row['IV'])\n",
    "print(f\"succes of {np.mean(trade_valid) * 100}% on {len(trade_valid)} on LONG\")"
   ]
  },
  {
   "cell_type": "markdown",
   "id": "a7b28821",
   "metadata": {},
   "source": [
    "**OBSERVATION** : The result for LONG positions looks very promising, with 52% accuracy on df_train, which is much higher than random chance (38% on df_train)."
   ]
  },
  {
   "cell_type": "code",
   "execution_count": 55,
   "id": "c72fbb2e",
   "metadata": {},
   "outputs": [
    {
     "name": "stdout",
     "output_type": "stream",
     "text": [
      "succes of 59.12897822445561% on 597\n"
     ]
    }
   ],
   "source": [
    "trade_valid=[]\n",
    "for _,row in df_filtered.iterrows():\n",
    "    spr = get_realized_volatility(get_prices_list_historical(row['Date'],int(row['day_to_maturity']))) - row['IV'] # spread \n",
    "    if (spr in spread_positif) and (spr > np.percentile(spread_positif,90)): # SHORT\n",
    "        trade_valid.append(row['vol_real'] < row['IV'])\n",
    "    elif (spr in spread_negatif) and (spr < np.percentile(spread_negatif,10)): # LONG\n",
    "        trade_valid.append(row['vol_real'] > row['IV'])\n",
    "print(f\"succes of {np.mean(trade_valid) * 100}% on {len(trade_valid)}\")"
   ]
  },
  {
   "cell_type": "markdown",
   "id": "e03c7111",
   "metadata": {},
   "source": [
    "We will now try to implement this strategy and backtest it directly in the main backtesting architecture and backtest it on `main.ipynb`"
   ]
  },
  {
   "cell_type": "code",
   "execution_count": 82,
   "id": "83fd36e1",
   "metadata": {},
   "outputs": [
    {
     "name": "stdout",
     "output_type": "stream",
     "text": [
      "there are 37.71532184950136% date where not all IV are > or < to RV\n"
     ]
    }
   ],
   "source": [
    "temp = 0\n",
    "for d in df_train['Date'].unique():\n",
    "    df_filt = df_train[df_train['Date'] == d]\n",
    "    if not (all(df_filt['IV'] > df_filt['vol_real']) or all(df_filt['IV'] < df_filt['vol_real'])):\n",
    "        temp+=1\n",
    "print(f\"there are {temp/len(df_train['Date'].unique()) * 100}% date where not all IV are > or < to RV\")"
   ]
  },
  {
   "cell_type": "code",
   "execution_count": 83,
   "id": "1baee134",
   "metadata": {},
   "outputs": [
    {
     "name": "stdout",
     "output_type": "stream",
     "text": [
      "there are 34.862385321100916% date where not all IV are > or < to RV\n"
     ]
    }
   ],
   "source": [
    "temp = 0\n",
    "for d in df_validation['Date'].unique():\n",
    "    df_filt = df_validation[df_validation['Date'] == d]\n",
    "    if not (all(df_filt['IV'] > df_filt['vol_real']) or all(df_filt['IV'] < df_filt['vol_real'])):\n",
    "        temp+=1\n",
    "print(f\"there are {temp/len(df_validation['Date'].unique()) * 100}% date where not all IV are > or < to RV\")"
   ]
  },
  {
   "cell_type": "code",
   "execution_count": 213,
   "id": "69b85835",
   "metadata": {},
   "outputs": [],
   "source": [
    "price_series = pd.Series(df_price['Price'].values, df_price['Date'])"
   ]
  },
  {
   "cell_type": "code",
   "execution_count": 439,
   "id": "18c4a078",
   "metadata": {},
   "outputs": [
    {
     "data": {
      "text/plain": [
       "Date\n",
       " 2016-01-04     26.34\n",
       " 2016-01-05     25.68\n",
       " 2016-01-06     25.18\n",
       " 2016-01-07     24.11\n",
       " 2016-01-08     24.24\n",
       "                ...  \n",
       " 2025-07-28    214.05\n",
       " 2025-07-29    211.27\n",
       " 2025-07-30    209.05\n",
       " 2025-07-31    207.57\n",
       " 2025-08-01    202.38\n",
       "Length: 2409, dtype: float64"
      ]
     },
     "execution_count": 439,
     "metadata": {},
     "output_type": "execute_result"
    }
   ],
   "source": [
    "price_series"
   ]
  },
  {
   "cell_type": "code",
   "execution_count": 455,
   "id": "04355f79",
   "metadata": {},
   "outputs": [
    {
     "data": {
      "text/plain": [
       "' 2025-07-28'"
      ]
     },
     "execution_count": 455,
     "metadata": {},
     "output_type": "execute_result"
    }
   ],
   "source": [
    "price_series.index[2404]"
   ]
  },
  {
   "cell_type": "code",
   "execution_count": 454,
   "id": "f25171b3",
   "metadata": {},
   "outputs": [
    {
     "data": {
      "text/plain": [
       "2404"
      ]
     },
     "execution_count": 454,
     "metadata": {},
     "output_type": "execute_result"
    }
   ],
   "source": [
    "price_series.index.get_loc(' 2025-07-28')"
   ]
  },
  {
   "cell_type": "code",
   "execution_count": 458,
   "id": "828028a4",
   "metadata": {},
   "outputs": [
    {
     "data": {
      "text/plain": [
       "Date\n",
       " 2025-07-21    212.48\n",
       " 2025-07-22    214.40\n",
       " 2025-07-23    214.15\n",
       " 2025-07-24    213.76\n",
       " 2025-07-25    213.88\n",
       " 2025-07-28    214.05\n",
       "dtype: float64"
      ]
     },
     "execution_count": 458,
     "metadata": {},
     "output_type": "execute_result"
    }
   ],
   "source": [
    "price_series[2404-5:2405]"
   ]
  },
  {
   "cell_type": "code",
   "execution_count": 457,
   "id": "17e0e97c",
   "metadata": {},
   "outputs": [
    {
     "data": {
      "text/plain": [
       "214.05"
      ]
     },
     "execution_count": 457,
     "metadata": {},
     "output_type": "execute_result"
    }
   ],
   "source": [
    "price_series.iloc[2404]"
   ]
  },
  {
   "cell_type": "markdown",
   "id": "d7b7769b",
   "metadata": {},
   "source": [
    "## **SKEW Analysis** ----------------------------------------------------------------------------------------------------"
   ]
  },
  {
   "cell_type": "markdown",
   "id": "bcca1280",
   "metadata": {},
   "source": [
    "In this section, we will analyze option skew to build an alpha on (RV vs IV). The study will be divided into four distinct quantitative analyses:\n",
    "\n",
    "- Risk reversal on delta 25\n",
    "\n",
    "- Risk reversal at fixed moneyness (downside)\n",
    "\n",
    "- Quadratic regression\n",
    "\n",
    "- Principal Component Analysis (PCA)\n",
    "\n",
    "The intuition behind this strategy is that skew is a good indicator of future volatility. In particular, the downside skew, or the implied volatility of OTM puts (often used as protection against crashes and volatility spikes), effectively reflects the market’s perception of extreme move risk."
   ]
  },
  {
   "cell_type": "markdown",
   "id": "4c3f560f",
   "metadata": {},
   "source": [
    "### **4th Strategy** :\n",
    "\n",
    "### Risk reversal on delta 25"
   ]
  },
  {
   "cell_type": "markdown",
   "id": "79fe1874",
   "metadata": {},
   "source": [
    "**CONTEXT** : For each trading date, we will study the difference in implied volatility between the OTM put with **delta = -0.25** and the OTM call with **delta = 0.25**. This difference, called **risk_reversal_25**, is a good leading indicator of future volatility."
   ]
  },
  {
   "cell_type": "code",
   "execution_count": 69,
   "id": "496d1d6d",
   "metadata": {},
   "outputs": [],
   "source": [
    "import plotly.graph_objects as go"
   ]
  },
  {
   "cell_type": "code",
   "execution_count": null,
   "id": "3f0b2218",
   "metadata": {},
   "outputs": [],
   "source": [
    "# df_option = pd.read_pickle(\"df_merged.pkl\")"
   ]
  },
  {
   "cell_type": "code",
   "execution_count": 273,
   "id": "fc1e7c3f",
   "metadata": {},
   "outputs": [
    {
     "data": {
      "text/plain": [
       "1554718"
      ]
     },
     "execution_count": 273,
     "metadata": {},
     "output_type": "execute_result"
    }
   ],
   "source": [
    "len(df_option)"
   ]
  },
  {
   "cell_type": "code",
   "execution_count": 274,
   "id": "17374e7a",
   "metadata": {},
   "outputs": [
    {
     "name": "stderr",
     "output_type": "stream",
     "text": [
      "C:\\Users\\Jason\\AppData\\Local\\Temp\\ipykernel_2456\\78195128.py:13: UserWarning:\n",
      "\n",
      "Boolean Series key will be reindexed to match DataFrame index.\n",
      "\n"
     ]
    }
   ],
   "source": [
    "df_option[' [C_IV]'] = pd.to_numeric(df_option[' [C_IV]'], errors='coerce')\n",
    "df_option[' [P_IV]'] = pd.to_numeric(df_option[' [P_IV]'], errors='coerce')\n",
    "\n",
    "df_option[' [C_DELTA]'] = pd.to_numeric(df_option[' [C_DELTA]'], errors='coerce')\n",
    "df_option[' [P_DELTA]'] = pd.to_numeric(df_option[' [P_DELTA]'], errors='coerce')\n",
    "\n",
    "df_option['IV'] = ((df_option[' [C_IV]'] + df_option[' [P_IV]']) / 2).round(5)\n",
    "df_option = df_option.dropna(subset=['IV'])\n",
    "\n",
    "df_filtered_option = df_option[['Date','day_to_maturity',' [C_IV]',' [C_DELTA]',' [P_IV]',' [P_DELTA]','IV','moneyness']].copy()\n",
    "\n",
    "df_filtered_option = df_filtered_option[df_option['day_to_maturity'] <= 21]\n",
    "df_filtered_option = df_filtered_option[df_option['day_to_maturity'] >= 12]\n",
    "\n",
    "#df_filtered_option = df_filtered_option[df_option['moneyness'] >= 0.8]\n",
    "#df_filtered_option = df_filtered_option[df_option['moneyness'] <= 1.1]\n",
    "\n",
    "df_filtered_option['tau'] = df_filtered_option['day_to_maturity']/252\n",
    "#df_filtered_option = df_filtered_option[df_filtered_option['tau'] < 0.12] # tau < 30 days\n"
   ]
  },
  {
   "cell_type": "code",
   "execution_count": 452,
   "id": "e88c6791",
   "metadata": {},
   "outputs": [],
   "source": [
    "begin_date = ' 2016-03-02'\n",
    "end_date_train = df_train['Date'].unique().tolist()[-1] # ' 2021-01-20'\n",
    "end_date_validation = df_validation['Date'].unique().tolist()[-1] # ' 2021-12-22'"
   ]
  },
  {
   "cell_type": "code",
   "execution_count": null,
   "id": "9237cc70",
   "metadata": {},
   "outputs": [],
   "source": [
    "list_date = df_filtered_option['Date'].unique().tolist() # ALL THE DIFFERENT DATE FROM df_filtered_option (NOT df_train + df_validation + df_test that had been filtered only with ATM)"
   ]
  },
  {
   "cell_type": "code",
   "execution_count": 353,
   "id": "419079a2",
   "metadata": {},
   "outputs": [],
   "source": [
    "id_begin_date = list_date.index(beging_date)\n",
    "id_end_date_train = list_date.index(end_date_train)\n",
    "id_end_date_validation = list_date.index(end_date_validation)"
   ]
  },
  {
   "cell_type": "code",
   "execution_count": 360,
   "id": "1f092b66",
   "metadata": {},
   "outputs": [],
   "source": [
    "list_date_train = list_date[:id_end_date_train+1]\n",
    "list_date_train_validation = list_date[:id_end_date_validation+1]"
   ]
  },
  {
   "cell_type": "code",
   "execution_count": 408,
   "id": "bd25eeb4",
   "metadata": {},
   "outputs": [
    {
     "name": "stdout",
     "output_type": "stream",
     "text": [
      "{' 2018-02-05', ' 2018-06-15', ' 2019-08-30', ' 2018-12-21', ' 2018-03-15', ' 2019-01-09', ' 2017-10-31', ' 2018-01-19', ' 2018-12-11', ' 2017-09-19', ' 2017-05-26', ' 2019-04-18', ' 2018-11-06', ' 2019-07-09', ' 2017-05-30', ' 2018-04-06', ' 2018-01-17', ' 2019-02-12', ' 2017-11-27', ' 2017-11-15', ' 2018-08-24', ' 2017-08-09', ' 2019-06-17', ' 2017-08-16', ' 2018-08-13', ' 2019-02-07', ' 2019-03-28', ' 2018-07-03', ' 2017-09-29', ' 2019-03-25', ' 2018-03-22', ' 2019-03-14', ' 2019-09-27', ' 2018-02-26', ' 2018-03-02', ' 2019-03-19', ' 2018-10-08', ' 2019-09-13', ' 2018-03-14', ' 2018-11-14', ' 2018-02-21', ' 2017-09-20', ' 2018-01-25', ' 2017-09-11', ' 2019-02-19', ' 2019-01-23', ' 2019-07-24', ' 2019-10-11', ' 2019-03-12', ' 2020-08-11', ' 2017-09-08', ' 2017-07-26', ' 2019-03-11', ' 2018-05-15', ' 2019-03-15', ' 2018-12-28', ' 2018-03-21', ' 2018-02-09', ' 2017-11-14', ' 2019-07-23', ' 2019-06-24', ' 2020-03-20', ' 2018-04-03', ' 2018-07-13', ' 2019-05-06', ' 2018-07-12', ' 2017-10-02', ' 2017-09-12', ' 2018-10-26', ' 2018-11-28', ' 2019-02-04', ' 2019-09-23', ' 2020-06-10', ' 2017-08-07', ' 2018-07-17', ' 2019-04-11', ' 2017-10-25', ' 2017-05-22', ' 2017-09-01', ' 2019-01-31', ' 2018-11-30', ' 2019-05-14', ' 2018-05-01', ' 2018-12-18', ' 2017-11-16', ' 2018-05-25', ' 2019-01-08', ' 2017-05-23', ' 2017-10-19', ' 2018-05-18', ' 2018-08-09', ' 2018-05-02', ' 2019-06-21', ' 2019-01-17', ' 2019-03-22', ' 2019-02-21', ' 2018-06-06', ' 2018-03-28', ' 2018-07-20', ' 2017-08-31', ' 2018-06-18', ' 2018-06-20', ' 2019-01-10', ' 2017-09-18', ' 2017-09-21', ' 2018-10-31', ' 2017-05-11', ' 2018-12-12', ' 2019-03-27', ' 2019-03-04', ' 2017-12-28', ' 2017-10-20', ' 2017-11-08', ' 2017-09-07', ' 2018-12-19', ' 2018-04-04', ' 2018-10-17', ' 2018-04-02', ' 2018-09-14', ' 2018-04-25', ' 2017-10-12', ' 2017-10-09', ' 2018-12-27', ' 2018-05-04', ' 2017-05-25', ' 2018-11-16', ' 2019-02-01', ' 2018-01-26', ' 2018-11-15', ' 2017-05-12', ' 2017-12-01', ' 2019-01-22', ' 2018-05-08', ' 2019-02-05', ' 2019-05-24', ' 2017-08-04', ' 2017-08-15', ' 2019-05-17', ' 2017-10-10', ' 2017-12-15', ' 2019-05-15', ' 2017-07-19', ' 2017-10-23', ' 2017-12-18', ' 2017-10-11', ' 2017-08-28', ' 2018-05-11', ' 2017-06-05', ' 2017-10-04', ' 2018-12-07', ' 2019-04-01', ' 2017-08-30', ' 2018-09-11', ' 2018-06-11', ' 2018-01-16', ' 2017-11-13', ' 2017-05-09', ' 2017-12-06', ' 2019-04-12', ' 2019-07-30', ' 2019-01-28'}\n"
     ]
    }
   ],
   "source": [
    "missing_dates = set(list_date_train) - set(df_train['Date'].unique())\n",
    "print(missing_dates)"
   ]
  },
  {
   "cell_type": "code",
   "execution_count": null,
   "id": "dd3e36f0",
   "metadata": {},
   "outputs": [],
   "source": [
    "'''df_filtered = df_filtered_option[df_filtered_option['Date'] == list_date[10]]\n",
    "df_filtered = df_filtered.sort_values(by=' [C_DELTA]')\n",
    "print(len(df_filtered))\n",
    "print(df_filtered['day_to_maturity'].unique())'''"
   ]
  },
  {
   "cell_type": "code",
   "execution_count": null,
   "id": "f8503e50",
   "metadata": {},
   "outputs": [],
   "source": [
    "'''for idx, row in df_filtered.iterrows():\n",
    "    print(\", \".join([f\"{col}={row[col]}\" for col in df_filtered.columns]))'''"
   ]
  },
  {
   "cell_type": "code",
   "execution_count": 588,
   "id": "ce91d392",
   "metadata": {},
   "outputs": [],
   "source": [
    "historical_rr25 = []\n",
    "for d in list_date:\n",
    "    # print(d)\n",
    "    df_filtered = df_filtered_option[df_filtered_option['Date'] == d]\n",
    "    idx_c = (df_filtered[' [C_DELTA]'] - 0.25).abs().idxmin()\n",
    "    idx_p = (df_filtered[' [P_DELTA]'] + 0.25).abs().idxmin()\n",
    "    historical_rr25.append(df_filtered.loc[idx_p][' [P_IV]'] - df_filtered.loc[idx_c][' [C_IV]'])"
   ]
  },
  {
   "cell_type": "code",
   "execution_count": 591,
   "id": "f0d0258d",
   "metadata": {},
   "outputs": [],
   "source": [
    "historical_rr25 = pd.Series(historical_rr25,list_date)"
   ]
  },
  {
   "cell_type": "code",
   "execution_count": 589,
   "id": "2263020b",
   "metadata": {},
   "outputs": [],
   "source": [
    "historical_rr25_train = []\n",
    "for d in list_date_train:\n",
    "    # print(d)\n",
    "    df_filtered = df_filtered_option[df_filtered_option['Date'] == d]\n",
    "    idx_c = (df_filtered[' [C_DELTA]'] - 0.25).abs().idxmin()\n",
    "    idx_p = (df_filtered[' [P_DELTA]'] + 0.25).abs().idxmin()\n",
    "    historical_rr25_train.append(df_filtered.loc[idx_p][' [P_IV]'] - df_filtered.loc[idx_c][' [C_IV]'])\n",
    "    "
   ]
  },
  {
   "cell_type": "code",
   "execution_count": 590,
   "id": "040c27dd",
   "metadata": {},
   "outputs": [],
   "source": [
    "historical_rr25_train = pd.Series(historical_rr25_train,list_date_train)"
   ]
  },
  {
   "cell_type": "code",
   "execution_count": 433,
   "id": "bf4f9ac0",
   "metadata": {},
   "outputs": [],
   "source": [
    "historical_rr25_train_filtered = historical_rr25_train.drop(missing_dates, errors = 'ignore')"
   ]
  },
  {
   "cell_type": "code",
   "execution_count": 434,
   "id": "284df884",
   "metadata": {},
   "outputs": [],
   "source": [
    "historical_date = pd.to_datetime(historical_rr25_train_filtered.index.tolist())"
   ]
  },
  {
   "cell_type": "code",
   "execution_count": 411,
   "id": "b38a049b",
   "metadata": {},
   "outputs": [],
   "source": [
    "rv_train = [df_train[df_train['Date'] == d].groupby('Date')['vol_real'].mean()[0] for d in df_train['Date'].unique().tolist()]\n",
    "iv_train = [df_train[df_train['Date'] == d].groupby('Date')['IV'].mean()[0] for d in df_train['Date'].unique().tolist()]"
   ]
  },
  {
   "cell_type": "code",
   "execution_count": 625,
   "id": "591be0a2",
   "metadata": {},
   "outputs": [
    {
     "data": {
      "image/png": "[encoded data removed]",
      "text/plain": [
       "<Figure size 1800x432 with 1 Axes>"
      ]
     },
     "metadata": {
      "needs_background": "light"
     },
     "output_type": "display_data"
    }
   ],
   "source": [
    "plt.figure(figsize=(25,6))\n",
    "\n",
    "plt.plot(historical_date, historical_rr25_train_filtered.tolist(), label='RR25 on df_train', color='green', linewidth=0.5)\n",
    "plt.plot(historical_date, rv_train, label='realized volatility', color='red', linewidth=0.5)\n",
    "plt.plot(historical_date, iv_train, label='Implied volatility', color='blue', linewidth=0.5)\n",
    "plt.xlabel(\"Date\")\n",
    "plt.ylabel(\"RR 25\")\n",
    "plt.title(\"Historical RR25 over time on df_train, and IV vs RV on straddle\")\n",
    "plt.legend()\n",
    "plt.grid(True)"
   ]
  },
  {
   "cell_type": "markdown",
   "id": "d67cd0d8",
   "metadata": {},
   "source": [
    "**REMARK** : From this chart, we can see that RR25 seems to capture future increases and decreases in volatility quite well. This is promising, since this information is already known at the time the straddle is quoted."
   ]
  },
  {
   "cell_type": "code",
   "execution_count": null,
   "id": "72febaf9",
   "metadata": {},
   "outputs": [],
   "source": [
    "# Get the 10 last rr25\n",
    "dict_rr25 = {}\n",
    "df_train_filtered = df_train[df_train['Date'] >= begin_date]\n",
    "for d in df_train_filtered['Date'].unique():\n",
    "    id_date = historical_rr25_train.index.get_loc(d)\n",
    "    dict_rr25[d] = historical_rr25_train[id_date-9:id_date+1]"
   ]
  },
  {
   "cell_type": "code",
   "execution_count": 744,
   "id": "3e33bc8f",
   "metadata": {},
   "outputs": [
    {
     "data": {
      "text/plain": [
       "' 2016-03-02'"
      ]
     },
     "execution_count": 744,
     "metadata": {},
     "output_type": "execute_result"
    }
   ],
   "source": [
    "begin_date"
   ]
  },
  {
   "cell_type": "code",
   "execution_count": 489,
   "id": "6140d5c7",
   "metadata": {},
   "outputs": [],
   "source": [
    "iv_train = pd.Series(iv_train, df_train['Date'].unique())"
   ]
  },
  {
   "cell_type": "code",
   "execution_count": null,
   "id": "1a78724f",
   "metadata": {},
   "outputs": [],
   "source": [
    "# get the 10 last IV\n",
    "dict_iv = {}\n",
    "for d in df_train_filtered['Date'].unique():\n",
    "    id_date = iv_train.index.get_loc(d)\n",
    "    dict_iv[d] = iv_train[id_date-9:id_date+1]"
   ]
  },
  {
   "cell_type": "markdown",
   "id": "fc3629f9",
   "metadata": {},
   "source": [
    "Let's try this strategy : \n",
    "\n",
    "- **LONG signal:**  \n",
    "  If (rr25 - moyenne historique rv > threshold) AND (3 last IV days descending) → **LONG**\n",
    "\n",
    "- **SHORT signal:**  \n",
    "  If (3 last rr25 decrease) AND (rr25 - last rr25 < threshold)  → **SHORT**"
   ]
  },
  {
   "cell_type": "markdown",
   "id": "b7576656",
   "metadata": {},
   "source": [
    "CALIBRATION OF THE STRATEGY : LONG"
   ]
  },
  {
   "cell_type": "code",
   "execution_count": 776,
   "id": "9f369ef7",
   "metadata": {},
   "outputs": [
    {
     "name": "stdout",
     "output_type": "stream",
     "text": [
      "succes of 37.87% on 581 with threshold = 0.0\n",
      "succes of 39.31% on 524 with threshold = 0.001\n",
      "succes of 41.46% on 451 with threshold = 0.002\n",
      "succes of 43.07% on 397 with threshold = 0.003\n",
      "succes of 44.38% on 356 with threshold = 0.004\n",
      "succes of 47.13% on 314 with threshold = 0.005\n",
      "succes of 46.71% on 289 with threshold = 0.006\n",
      "succes of 49.06% on 267 with threshold = 0.007\n",
      "succes of 48.96% on 241 with threshold = 0.008\n",
      "succes of 46.72% on 229 with threshold = 0.009000000000000001\n",
      "succes of 50.00% on 210 with threshold = 0.01\n",
      "succes of 49.46% on 184 with threshold = 0.011\n",
      "succes of 51.72% on 174 with threshold = 0.012\n",
      "succes of 49.07% on 161 with threshold = 0.013000000000000001\n",
      "succes of 51.97% on 152 with threshold = 0.014\n",
      "succes of 52.67% on 131 with threshold = 0.015\n",
      "succes of 50.79% on 126 with threshold = 0.016\n",
      "succes of 52.83% on 106 with threshold = 0.017\n",
      "succes of 52.83% on 106 with threshold = 0.018000000000000002\n",
      "succes of 62.22% on 90 with threshold = 0.019\n",
      "succes of 60.27% on 73 with threshold = 0.02\n",
      "succes of 60.27% on 73 with threshold = 0.021\n",
      "succes of 53.97% on 63 with threshold = 0.022\n",
      "succes of 53.97% on 63 with threshold = 0.023\n",
      "succes of 53.97% on 63 with threshold = 0.024\n",
      "succes of 50.00% on 58 with threshold = 0.025\n",
      "succes of 44.23% on 52 with threshold = 0.026000000000000002\n",
      "succes of 47.92% on 48 with threshold = 0.027\n",
      "succes of 47.92% on 48 with threshold = 0.028\n",
      "succes of 41.18% on 34 with threshold = 0.029\n"
     ]
    }
   ],
   "source": [
    "threshold_range = np.arange(0, 0.03, 0.001)\n",
    "# CONDITION LONG : (rr25 - moyenne historique rv > threshold) AND (3 last IV days descending) \n",
    "dates = df_train_filtered['Date'].values\n",
    "vol_real = df_train_filtered['vol_real'].values\n",
    "iv = df_train_filtered['IV'].values\n",
    "\n",
    "\n",
    "mean_rr25 = {d: np.mean(dict_rr25[d][-4:-1]) for d in set(dates)}\n",
    "\n",
    "for t in threshold_range:\n",
    "    trade_valid = []\n",
    "    for i in range(len(dates)):\n",
    "        d = dates[i]\n",
    "        if (historical_rr25.loc[d] - mean_rr25[d] > t) and is_sorted_desc(dict_iv[d][-3:]):\n",
    "            trade_valid.append(vol_real[i] > iv[i])\n",
    "    print(f\"succes of {np.mean(trade_valid) * 100:.2f}% on {len(trade_valid)} with threshold = {t}\")"
   ]
  },
  {
   "cell_type": "markdown",
   "id": "60397256",
   "metadata": {},
   "source": [
    "Let's retain the threshold of 0.015 that have performed 52.67% of accuracy on LONG over 131 traded which is better than 38% "
   ]
  },
  {
   "cell_type": "markdown",
   "id": "a6c8ace1",
   "metadata": {},
   "source": [
    "THRESHOLD SHORT CALIBRATION"
   ]
  },
  {
   "cell_type": "code",
   "execution_count": 775,
   "id": "77e1a2f9",
   "metadata": {},
   "outputs": [
    {
     "name": "stdout",
     "output_type": "stream",
     "text": [
      "succes of 64.95% on 1050 with threshold = -0.02\n",
      "succes of 64.82% on 1046 with threshold = -0.019\n",
      "succes of 65.32% on 1038 with threshold = -0.018\n",
      "succes of 64.67% on 1019 with threshold = -0.016999999999999998\n",
      "succes of 64.81% on 986 with threshold = -0.015999999999999997\n",
      "succes of 65.74% on 972 with threshold = -0.014999999999999996\n",
      "succes of 65.86% on 952 with threshold = -0.013999999999999995\n",
      "succes of 66.10% on 947 with threshold = -0.012999999999999994\n",
      "succes of 66.41% on 917 with threshold = -0.011999999999999993\n",
      "succes of 64.99% on 877 with threshold = -0.010999999999999992\n",
      "succes of 65.42% on 827 with threshold = -0.009999999999999992\n",
      "succes of 65.50% on 803 with threshold = -0.00899999999999999\n",
      "succes of 65.85% on 779 with threshold = -0.00799999999999999\n",
      "succes of 67.41% on 718 with threshold = -0.006999999999999989\n",
      "succes of 68.96% on 625 with threshold = -0.005999999999999988\n",
      "succes of 71.29% on 526 with threshold = -0.004999999999999987\n",
      "succes of 71.34% on 471 with threshold = -0.003999999999999986\n",
      "succes of 67.93% on 368 with threshold = -0.0029999999999999853\n",
      "succes of 70.75% on 253 with threshold = -0.0019999999999999844\n",
      "succes of 70.55% on 163 with threshold = -0.0009999999999999835\n"
     ]
    }
   ],
   "source": [
    "#threshold_range = np.arange(-0.05, 0.01, 0.001)\n",
    "threshold_range = np.arange(-0.02, 0, 0.001)\n",
    "# CONDITION SHORT : (3 last rr25 decrease) AND (rr25 - last rr25 > threshold) \n",
    "dates = df_train_filtered['Date'].values\n",
    "vol_real = df_train_filtered['vol_real'].values\n",
    "iv = df_train_filtered['IV'].values\n",
    "\n",
    "\n",
    "mean_rr25 = {d: np.mean(dict_rr25[d][-4:-1]) for d in set(dates)}\n",
    "\n",
    "for t in threshold_range:\n",
    "    trade_valid = []\n",
    "    for i in range(len(dates)):\n",
    "        d = dates[i]\n",
    "        if is_sorted_desc(dict_rr25[d][-3:]) and (dict_rr25[d][-1] - dict_rr25[d][-2] > t):\n",
    "\n",
    "            trade_valid.append(vol_real[i] < iv[i])\n",
    "    print(f\"succes of {np.mean(trade_valid) * 100:.2f}% on {len(trade_valid)} with threshold = {t}\")"
   ]
  },
  {
   "cell_type": "markdown",
   "id": "7a0e435e",
   "metadata": {},
   "source": [
    "We will keep the threshold of -0.005, which achieved an accuracy of over 71.29% over 526 traded, clearly higher than the 62% baseline."
   ]
  },
  {
   "cell_type": "markdown",
   "id": "27f85a3c",
   "metadata": {},
   "source": [
    "### **4th Strategy** :\n",
    "\n",
    "### Risk reversal at fixed moneyness (downside)"
   ]
  },
  {
   "cell_type": "markdown",
   "id": "bb818760",
   "metadata": {},
   "source": [
    "---"
   ]
  },
  {
   "cell_type": "code",
   "execution_count": 430,
   "id": "62c8467c",
   "metadata": {},
   "outputs": [
    {
     "data": {
      "text/plain": [
       "\"# Préparer les données pour le graphe\\ndate_fig = df_filtered['Date'].unique().tolist()[0]\\nX = df_filtered['moneyness']\\nY = df_filtered['tau']\\nZ = df_filtered['IV']\\n\\n# Créer le graphique 3D interactif\\nfig = go.Figure(data=[go.Scatter3d(\\n    x=X,\\n    y=Y,\\n    z=Z,\\n    mode='markers',\\n    marker=dict(\\n        size=5,\\n        color=Z,  # Colorier par la volatilité implicite\\n        colorscale='Viridis',  # Choisir une échelle de couleur\\n        colorbar=dict(title='Implied Volatility')  # Ajouter une barre de couleur\\n    )\\n)])\\n\\nfig.update_traces(marker=dict(size=1))\\n\\n# Ajouter des titres et labels\\nfig.update_layout(\\n    title=f'Volatility surface -- {date_fig}',\\n    scene=dict(\\n        xaxis_title='Moneyness K/S',\\n        yaxis_title='Maturity (day/252)',\\n        zaxis_title='Implied Volatility'\\n    ),\\n    autosize=True,\\n    width=1200,  # Largeur de la fenêtre en pixels\\n    height=800\\n)\\n\\n# Afficher le graphique interactif\\nfig.show()\""
      ]
     },
     "execution_count": 430,
     "metadata": {},
     "output_type": "execute_result"
    }
   ],
   "source": [
    "'''# Préparer les données pour le graphe\n",
    "date_fig = df_filtered['Date'].unique().tolist()[0]\n",
    "X = df_filtered['moneyness']\n",
    "Y = df_filtered['tau']\n",
    "Z = df_filtered['IV']\n",
    "\n",
    "# Créer le graphique 3D interactif\n",
    "fig = go.Figure(data=[go.Scatter3d(\n",
    "    x=X,\n",
    "    y=Y,\n",
    "    z=Z,\n",
    "    mode='markers',\n",
    "    marker=dict(\n",
    "        size=5,\n",
    "        color=Z,  # Colorier par la volatilité implicite\n",
    "        colorscale='Viridis',  # Choisir une échelle de couleur\n",
    "        colorbar=dict(title='Implied Volatility')  # Ajouter une barre de couleur\n",
    "    )\n",
    ")])\n",
    "\n",
    "fig.update_traces(marker=dict(size=1))\n",
    "\n",
    "# Ajouter des titres et labels\n",
    "fig.update_layout(\n",
    "    title=f'Volatility surface -- {date_fig}',\n",
    "    scene=dict(\n",
    "        xaxis_title='Moneyness K/S',\n",
    "        yaxis_title='Maturity (day/252)',\n",
    "        zaxis_title='Implied Volatility'\n",
    "    ),\n",
    "    autosize=True,\n",
    "    width=1200,  # Largeur de la fenêtre en pixels\n",
    "    height=800\n",
    ")\n",
    "\n",
    "# Afficher le graphique interactif\n",
    "fig.show()'''"
   ]
  },
  {
   "cell_type": "code",
   "execution_count": null,
   "id": "49e9e6cc",
   "metadata": {},
   "outputs": [],
   "source": [
    "mask = (\n",
    "    (df_merged['moneyness'] >= 0.995) & \n",
    "    (df_merged['moneyness'] <= 1.005) & \n",
    "    (df_merged['day_to_maturity'] <= 30) & \n",
    "    (df_merged['day_to_maturity'] > 5) \n",
    ")"
   ]
  },
  {
   "cell_type": "markdown",
   "id": "17a6eb33",
   "metadata": {},
   "source": [
    "---"
   ]
  },
  {
   "cell_type": "markdown",
   "id": "20910da5",
   "metadata": {},
   "source": [
    "---"
   ]
  }
 ],
 "metadata": {
  "kernelspec": {
   "display_name": "Python 3",
   "language": "python",
   "name": "python3"
  },
  "language_info": {
   "codemirror_mode": {
    "name": "ipython",
    "version": 3
   },
   "file_extension": ".py",
   "mimetype": "text/x-python",
   "name": "python",
   "nbconvert_exporter": "python",
   "pygments_lexer": "ipython3",
   "version": "3.10.4"
  }
 },
 "nbformat": 4,
 "nbformat_minor": 5
}
