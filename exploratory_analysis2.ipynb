{
 "cells": [
  {
   "cell_type": "code",
   "execution_count": 1,
   "id": "d7d6f4d7",
   "metadata": {},
   "outputs": [],
   "source": [
    "import numpy as np\n",
    "from scipy.stats import norm\n",
    "import pandas as pd\n",
    "import matplotlib.pyplot as plt\n",
    "import matplotlib.dates as mdates\n",
    "\n",
    "\n",
    "from sklearn.linear_model import LinearRegression"
   ]
  },
  {
   "cell_type": "code",
   "execution_count": 2,
   "id": "a353751e",
   "metadata": {},
   "outputs": [],
   "source": [
    "df_train = pd.read_pickle(\"df_train.pkl\")\n",
    "df_validation = pd.read_pickle(\"df_validation.pkl\")\n",
    "df_test = pd.read_pickle(\"df_test.pkl\")\n",
    "df_price = pd.read_pickle(\"df_price.pkl\")\n",
    "df_option = pd.read_pickle(\"df_merged.pkl\")"
   ]
  },
  {
   "cell_type": "code",
   "execution_count": 90,
   "id": "f674029a",
   "metadata": {},
   "outputs": [],
   "source": [
    "from sklearn.linear_model import LinearRegression"
   ]
  },
  {
   "cell_type": "markdown",
   "id": "e8c39d4c",
   "metadata": {},
   "source": [
    "# **STATISTICAL STRATEGY : exploratory analysis**"
   ]
  },
  {
   "cell_type": "markdown",
   "id": "25c32717",
   "metadata": {},
   "source": [
    "As a first step, we use a manual and heuristic statistical approach to study and predict volatility. Instead of using complex mathematical models or machine learning, we build and test alphas based on simple observations, statistical patterns, and market intuition. The core idea is to leverage well-known features of volatility such as clustering, mean reversion, term structure, the gap between implied and realized volatility, and cross-reactions between IV and RV and translate them into tradable signals.\n",
    "\n",
    "**Advantages**:\n",
    "- Allows quick exploration of potential behaviors without complex models.\n",
    "- Builds an initial understanding and intuition of IV vs RV dynamics.\n",
    "- Strategies are easy to interpret, reproduce, and explain.\n",
    "\n",
    "**Drawbacks**:\n",
    "- Can quickly become obsolete, fragile, and unable to capture complex dynamics.\n",
    "- Limited generalization power.\n",
    "- Markets often behave counter-intuitively: simple rules like “if volatility goes up, it will keep going up” can be misleading. The most robust signals are sometimes the ones that seem the most counter-intuitive."
   ]
  },
  {
   "cell_type": "markdown",
   "id": "a75f63ba",
   "metadata": {},
   "source": [
    "### **1st strategy**:\n",
    "\n",
    "For a given quoted straddle, we look at the absolute log-returns of the last 3 days and the average IV (all maturities) over the same period. \n",
    "The strategy that performed best on df_train is the following:\n",
    "\n",
    "- **LONG signal:**  \n",
    "  If |log-return| is increasing and IV is also increasing → **LONG**\n",
    "\n",
    "- **SHORT signal:**  \n",
    "  If |log-return| is decreasing and IV is also decreasing →  **SHORT**."
   ]
  },
  {
   "cell_type": "code",
   "execution_count": 4,
   "id": "1f1e97c2",
   "metadata": {},
   "outputs": [],
   "source": [
    "def is_sorted(lst):\n",
    "    return all(lst[i] <= lst[i+1] for i in range(len(lst)-1))\n",
    "\n",
    "def is_sorted_desc(lst):\n",
    "    return all(lst[i] >= lst[i+1] for i in range(len(lst)-1))"
   ]
  },
  {
   "cell_type": "code",
   "execution_count": 30,
   "id": "345b1057",
   "metadata": {},
   "outputs": [
    {
     "name": "stdout",
     "output_type": "stream",
     "text": [
      "succes of 50.24875621890548% on 603\n"
     ]
    }
   ],
   "source": [
    "d1 = {}\n",
    "d2 = {}\n",
    "for d in df_train[df_train['Date'] > \" 2016-03-01\"]['Date'].unique():\n",
    "    id_date = df_price['Date'].tolist().index(d)\n",
    "    d1[d] = df_price['Price'].iloc[id_date - 3:id_date+1]\n",
    "    id_date = df_train.groupby('Date')['IV'].mean().index.tolist().index(d)\n",
    "    d2[d] = df_train.groupby('Date')['IV'].mean()[id_date - 2:id_date+1]\n",
    "\n",
    "for d in d1.keys():\n",
    "    d1[d] = np.abs(np.log(d1[d]/d1[d].shift(1)).dropna())\n",
    "\n",
    "\n",
    "trade_valid = []\n",
    "df_fil = df_train[df_train['Date'] > \" 2016-03-01\"].copy()\n",
    "for _,row in df_fil.iterrows():\n",
    "    d = row['Date']\n",
    "    if (is_sorted(d1[d].tolist())) and (is_sorted(d2[d].tolist())): # LONG \n",
    "        trade_valid.append(row['vol_real'] > row['IV'])\n",
    "    elif (is_sorted_desc(d1[d].tolist())) and (is_sorted_desc(d2[d].tolist())): # SHORT\n",
    "        trade_valid.append(row['vol_real'] < row['IV'])\n",
    "\n",
    "print(f\"succes of {np.mean(trade_valid) * 100}% on {len(trade_valid)}\")"
   ]
  },
  {
   "cell_type": "code",
   "execution_count": null,
   "id": "753ef633",
   "metadata": {},
   "outputs": [
    {
     "name": "stdout",
     "output_type": "stream",
     "text": [
      "succes of 55.46218487394958% on 119\n"
     ]
    }
   ],
   "source": [
    "d1 = {}\n",
    "d2 = {}\n",
    "for d in df_validation[df_validation['Date'] > \" 2021-01-27\"]['Date'].unique():\n",
    "    id_date = df_price['Date'].tolist().index(d)\n",
    "    d1[d] = df_price['Price'].iloc[id_date - 3:id_date+1]\n",
    "    id_date = df_validation.groupby('Date')['IV'].mean().index.tolist().index(d)\n",
    "    d2[d] = df_validation.groupby('Date')['IV'].mean()[id_date - 2:id_date+1]\n",
    "\n",
    "for d in d1.keys():\n",
    "    d1[d] = np.abs(np.log(d1[d]/d1[d].shift(1)).dropna())\n",
    "\n",
    "trade_valid = []\n",
    "df_fil = df_validation[df_validation['Date'] > \" 2021-01-27\"].copy()\n",
    "for _,row in df_fil.iterrows():\n",
    "    d = row['Date']\n",
    "    if (is_sorted(d1[d].tolist())) and (is_sorted(d2[d].tolist())): # LONG \n",
    "        trade_valid.append(row['vol_real'] > row['IV'])\n",
    "    elif (is_sorted_desc(d1[d].tolist())) and ( is_sorted_desc(d2[d].tolist())): # SHORT\n",
    "        trade_valid.append(row['vol_real'] < row['IV'])\n",
    "print(f\"succes of {np.mean(trade_valid) * 100}% on {len(trade_valid)}\")"
   ]
  },
  {
   "cell_type": "markdown",
   "id": "c04f6313",
   "metadata": {},
   "source": [
    "### **2nd strategy**:\n",
    "\n",
    "For a given quoted straddle, we will study the **term structure** dynamic (how maturity affects IV)"
   ]
  },
  {
   "cell_type": "code",
   "execution_count": 86,
   "id": "24e7d3de",
   "metadata": {},
   "outputs": [
    {
     "name": "stdout",
     "output_type": "stream",
     "text": [
      "There are 33.48623853211009% RV>IV (with 872 straddle) when the term structure is in ASCENDING order\n"
     ]
    }
   ],
   "source": [
    "trade_valid = []\n",
    "df_filtered = df_train[df_train['Date'] > \" 2016-03-01\"][['Date','day_to_maturity','IV','vol_real']].copy()\n",
    "for d in df_filtered['Date'].unique().tolist():\n",
    "    df_date = df_filtered[df_filtered['Date'] == d].sort_values(by='day_to_maturity', ascending=True)\n",
    "    if is_sorted(df_date['IV'].tolist()):\n",
    "        list_iv = df_date['IV'].tolist()\n",
    "        list_rv = df_date['vol_real'].tolist()\n",
    "        trade_valid = trade_valid + [list_rv[i] > list_iv[i] for i in range(len(df_date))]\n",
    "print(f\"There are {np.mean(trade_valid)*100}% RV>IV (with {len(trade_valid)} straddle) when the term structure is in ASCENDING order\")\n"
   ]
  },
  {
   "cell_type": "code",
   "execution_count": 89,
   "id": "f81e77b1",
   "metadata": {},
   "outputs": [
    {
     "name": "stdout",
     "output_type": "stream",
     "text": [
      "There are 51.01123595505618% RV<IV (with 890 straddle) when the term structure is in DESCENDING order\n"
     ]
    }
   ],
   "source": [
    "trade_valid = []\n",
    "df_filtered = df_train[df_train['Date'] > \" 2016-03-01\"][['Date','day_to_maturity','IV','vol_real']].copy()\n",
    "for d in df_filtered['Date'].unique().tolist():\n",
    "    df_date = df_filtered[df_filtered['Date'] == d].sort_values(by='day_to_maturity', ascending=True)\n",
    "    if is_sorted_desc(df_date['IV'].tolist()):\n",
    "        list_iv = df_date['IV'].tolist()\n",
    "        list_rv = df_date['vol_real'].tolist()\n",
    "        trade_valid = trade_valid + [list_rv[i] < list_iv[i] for i in range(len(df_date))]\n",
    "print(f\"There are {np.mean(trade_valid)*100}% RV<IV (with {len(trade_valid)} straddle) when the term structure is in DESCENDING order\")\n"
   ]
  },
  {
   "cell_type": "markdown",
   "id": "d4dd9d1b",
   "metadata": {},
   "source": [
    "From the first results, an increasing term structure is a very good indicator for short volatility signals. On dates where the term structure was rising, the IV was often overpriced.\n",
    "We therefore keep only the following signal:\n",
    "\n",
    "- **SHORT signal:**  \n",
    "  If the term structure is increasing → **SHORT**"
   ]
  },
  {
   "cell_type": "code",
   "execution_count": 105,
   "id": "7866d834",
   "metadata": {},
   "outputs": [],
   "source": [
    "dic_slope = {}\n",
    "trade_valid = []\n",
    "df_filtered = df_train[df_train['Date'] > \" 2016-03-01\"][['Date','day_to_maturity','IV','vol_real']].copy()\n",
    "for d in df_filtered['Date'].unique().tolist():\n",
    "    df_date = df_filtered[df_filtered['Date'] == d].sort_values(by='day_to_maturity', ascending=True)\n",
    "    if is_sorted(df_date['IV'].tolist()):\n",
    "        list_iv = df_date['IV'].tolist()\n",
    "        list_rv = df_date['vol_real'].tolist()\n",
    "        Y = list_iv\n",
    "        X = df_date['day_to_maturity'].tolist()\n",
    "\n",
    "        X = np.array(X).reshape(-1, 1)\n",
    "        Y = np.array(Y)\n",
    "\n",
    "        model = LinearRegression()\n",
    "        model.fit(X, Y)\n",
    "\n",
    "        dic_slope[d] = model.coef_[0]\n",
    "        #trade_valid = trade_valid + [list_rv[i] > list_iv[i] for i in range(len(df_date))]\n",
    "\n",
    "#print(f\"There are {np.mean(trade_valid)*100}% RV>IV (with {len(trade_valid)} straddle) when the term structure is in ASCENDING order\")\n"
   ]
  },
  {
   "cell_type": "markdown",
   "id": "778417b8",
   "metadata": {},
   "source": [
    "We now try to optimize the short signal. We perform linear regressions on periods with an increasing term structure to identify slope levels that correspond to a robust short signal.\n",
    "\n",
    "The goal is to find a quantile threshold (threshold) so that the short signal is strong when the slope is above this quantile, among all slopes calculated on df_train."
   ]
  },
  {
   "cell_type": "code",
   "execution_count": 118,
   "id": "36c1ae5d",
   "metadata": {},
   "outputs": [
    {
     "name": "stdout",
     "output_type": "stream",
     "text": [
      "There are 66.3594470046083% RV<IV (with 868 straddle) when the term structure is in ASCENDING order\n"
     ]
    }
   ],
   "source": [
    "threshold = 0\n",
    "trade_valid = []\n",
    "for d in df_filtered['Date'].unique().tolist():\n",
    "    df_date = df_filtered[df_filtered['Date'] == d].sort_values(by='day_to_maturity', ascending=True)\n",
    "    if is_sorted(df_date['IV'].tolist()):\n",
    "        if dic_slope[d] > np.percentile(list(dic_slope.values()),threshold):\n",
    "            list_iv = df_date['IV'].tolist()\n",
    "            list_rv = df_date['vol_real'].tolist()\n",
    "            trade_valid = trade_valid + [list_rv[i] < list_iv[i] for i in range(len(df_date))]\n",
    "\n",
    "print(f\"There are {np.mean(trade_valid)*100}% RV<IV (with {len(trade_valid)} straddle) when the term structure is in ASCENDING order\")\n"
   ]
  },
  {
   "cell_type": "markdown",
   "id": "5349864d",
   "metadata": {},
   "source": [
    "Let's calibrate the theshold on df_train"
   ]
  },
  {
   "cell_type": "code",
   "execution_count": null,
   "id": "7b415d7b",
   "metadata": {},
   "outputs": [
    {
     "name": "stdout",
     "output_type": "stream",
     "text": [
      "Threshold = 0.00, success rate = 66.36% on 868 straddles\n",
      "Threshold = 0.01, success rate = 66.32% on 864 straddles\n",
      "Threshold = 0.02, success rate = 66.20% on 855 straddles\n",
      "Threshold = 0.03, success rate = 66.75% on 845 straddles\n",
      "Threshold = 0.04, success rate = 66.95% on 835 straddles\n",
      "Threshold = 0.05, success rate = 66.71% on 826 straddles\n",
      "Threshold = 0.06, success rate = 66.55% on 822 straddles\n",
      "Threshold = 0.07, success rate = 66.79% on 813 straddles\n",
      "Threshold = 0.08, success rate = 66.92% on 804 straddles\n",
      "Threshold = 0.09, success rate = 66.50% on 794 straddles\n",
      "Threshold = 0.10, success rate = 66.50% on 785 straddles\n",
      "Threshold = 0.11, success rate = 66.79% on 780 straddles\n",
      "Threshold = 0.12, success rate = 66.45% on 772 straddles\n",
      "Threshold = 0.13, success rate = 66.10% on 764 straddles\n",
      "Threshold = 0.14, success rate = 66.31% on 754 straddles\n",
      "Threshold = 0.15, success rate = 66.31% on 745 straddles\n",
      "Threshold = 0.16, success rate = 66.08% on 740 straddles\n",
      "Threshold = 0.17, success rate = 65.89% on 730 straddles\n",
      "Threshold = 0.18, success rate = 65.46% on 721 straddles\n",
      "Threshold = 0.19, success rate = 65.59% on 712 straddles\n",
      "Threshold = 0.20, success rate = 65.43% on 703 straddles\n",
      "Threshold = 0.21, success rate = 65.71% on 694 straddles\n",
      "Threshold = 0.22, success rate = 65.51% on 690 straddles\n",
      "Threshold = 0.23, success rate = 65.35% on 681 straddles\n",
      "Threshold = 0.24, success rate = 64.88% on 672 straddles\n",
      "Threshold = 0.25, success rate = 64.35% on 662 straddles\n",
      "Threshold = 0.26, success rate = 63.86% on 653 straddles\n",
      "Threshold = 0.27, success rate = 63.89% on 648 straddles\n",
      "Threshold = 0.28, success rate = 64.11% on 638 straddles\n",
      "Threshold = 0.29, success rate = 64.39% on 629 straddles\n",
      "Threshold = 0.30, success rate = 63.87% on 620 straddles\n",
      "Threshold = 0.31, success rate = 64.16% on 611 straddles\n",
      "Threshold = 0.32, success rate = 64.52% on 606 straddles\n",
      "Threshold = 0.33, success rate = 64.77% on 596 straddles\n",
      "Threshold = 0.34, success rate = 65.08% on 587 straddles\n",
      "Threshold = 0.35, success rate = 64.82% on 577 straddles\n",
      "Threshold = 0.36, success rate = 64.55% on 567 straddles\n",
      "Threshold = 0.37, success rate = 64.23% on 562 straddles\n",
      "Threshold = 0.38, success rate = 64.25% on 551 straddles\n",
      "Threshold = 0.39, success rate = 63.84% on 542 straddles\n",
      "Threshold = 0.40, success rate = 63.35% on 532 straddles\n",
      "Threshold = 0.41, success rate = 63.60% on 522 straddles\n",
      "Threshold = 0.42, success rate = 63.80% on 511 straddles\n",
      "Threshold = 0.43, success rate = 64.03% on 506 straddles\n",
      "Threshold = 0.44, success rate = 64.44% on 495 straddles\n",
      "Threshold = 0.45, success rate = 64.68% on 487 straddles\n",
      "Threshold = 0.46, success rate = 63.94% on 477 straddles\n",
      "Threshold = 0.47, success rate = 63.46% on 468 straddles\n",
      "Threshold = 0.48, success rate = 64.15% on 463 straddles\n",
      "Threshold = 0.49, success rate = 64.46% on 453 straddles\n",
      "Threshold = 0.50, success rate = 65.09% on 444 straddles\n",
      "Threshold = 0.51, success rate = 64.45% on 436 straddles\n",
      "Threshold = 0.52, success rate = 64.55% on 426 straddles\n",
      "Threshold = 0.53, success rate = 64.85% on 421 straddles\n",
      "Threshold = 0.54, success rate = 64.96% on 411 straddles\n",
      "Threshold = 0.55, success rate = 64.59% on 401 straddles\n",
      "Threshold = 0.56, success rate = 65.82% on 392 straddles\n",
      "Threshold = 0.57, success rate = 67.54% on 382 straddles\n",
      "Threshold = 0.58, success rate = 67.11% on 377 straddles\n",
      "Threshold = 0.59, success rate = 67.57% on 367 straddles\n",
      "Threshold = 0.60, success rate = 67.23% on 357 straddles\n",
      "Threshold = 0.61, success rate = 68.88% on 347 straddles\n",
      "Threshold = 0.62, success rate = 68.45% on 336 straddles\n",
      "Threshold = 0.63, success rate = 67.58% on 327 straddles\n",
      "Threshold = 0.64, success rate = 67.08% on 322 straddles\n",
      "Threshold = 0.65, success rate = 67.41% on 313 straddles\n",
      "Threshold = 0.66, success rate = 67.32% on 306 straddles\n",
      "Threshold = 0.67, success rate = 67.68% on 297 straddles\n",
      "Threshold = 0.68, success rate = 68.20% on 283 straddles\n",
      "Threshold = 0.69, success rate = 69.42% on 278 straddles\n",
      "Threshold = 0.70, success rate = 68.28% on 268 straddles\n",
      "Threshold = 0.71, success rate = 67.83% on 258 straddles\n",
      "Threshold = 0.72, success rate = 66.67% on 249 straddles\n",
      "Threshold = 0.73, success rate = 65.69% on 239 straddles\n",
      "Threshold = 0.74, success rate = 67.09% on 234 straddles\n",
      "Threshold = 0.75, success rate = 68.30% on 224 straddles\n",
      "Threshold = 0.76, success rate = 69.95% on 213 straddles\n",
      "Threshold = 0.77, success rate = 68.97% on 203 straddles\n",
      "Threshold = 0.78, success rate = 69.95% on 193 straddles\n",
      "Threshold = 0.79, success rate = 69.15% on 188 straddles\n",
      "Threshold = 0.80, success rate = 69.06% on 181 straddles\n",
      "Threshold = 0.81, success rate = 69.59% on 171 straddles\n",
      "Threshold = 0.82, success rate = 70.99% on 162 straddles\n",
      "Threshold = 0.83, success rate = 70.39% on 152 straddles\n",
      "Threshold = 0.84, success rate = 70.83% on 144 straddles\n",
      "Threshold = 0.85, success rate = 70.50% on 139 straddles\n",
      "Threshold = 0.86, success rate = 72.09% on 129 straddles\n",
      "Threshold = 0.87, success rate = 75.63% on 119 straddles\n",
      "Threshold = 0.88, success rate = 73.15% on 108 straddles\n",
      "Threshold = 0.89, success rate = 70.41% on 98 straddles\n",
      "Threshold = 0.90, success rate = 73.12% on 93 straddles\n",
      "Threshold = 0.91, success rate = 74.70% on 83 straddles\n",
      "Threshold = 0.92, success rate = 73.97% on 73 straddles\n",
      "Threshold = 0.93, success rate = 69.84% on 63 straddles\n",
      "Threshold = 0.94, success rate = 69.81% on 53 straddles\n",
      "Threshold = 0.95, success rate = 69.39% on 49 straddles\n",
      "Threshold = 0.96, success rate = 82.05% on 39 straddles\n",
      "Threshold = 0.97, success rate = 79.31% on 29 straddles\n",
      "Threshold = 0.98, success rate = 80.00% on 20 straddles\n",
      "Threshold = 0.99, success rate = 100.00% on 9 straddles\n",
      "\n",
      "Best threshold = 0.99 with success rate = 100.00%\n"
     ]
    }
   ],
   "source": [
    "threshold_range = np.arange(0, 1.01, 0.01)  \n",
    "\n",
    "best_threshold = None\n",
    "best_rate = -np.inf\n",
    "\n",
    "dates_unique = df_filtered['Date'].unique().tolist()\n",
    "dic_slope_values = list(dic_slope.values())\n",
    "\n",
    "for th in threshold_range:\n",
    "    trade_valid = []\n",
    "    for d in dates_unique:\n",
    "        df_date = df_filtered[df_filtered['Date'] == d].sort_values(by='day_to_maturity')\n",
    "        if is_sorted(df_date['IV'].tolist()):\n",
    "            if dic_slope[d] > np.percentile(dic_slope_values, th*100):\n",
    "                list_iv = df_date['IV'].tolist()\n",
    "                list_rv = df_date['vol_real'].tolist()\n",
    "                trade_valid.extend([list_rv[i] < list_iv[i] for i in range(len(df_date))])\n",
    "\n",
    "    if trade_valid: \n",
    "        rate = np.mean(trade_valid)\n",
    "        print(f\"Threshold = {th:.2f}, success rate = {rate*100:.2f}% on {len(trade_valid)} straddles\")\n",
    "        if rate > best_rate:\n",
    "            best_rate = rate\n",
    "            best_threshold = th\n",
    "\n",
    "print(f\"\\nBest threshold = {best_threshold:.2f} with success rate = {best_rate*100:.2f}%\")"
   ]
  },
  {
   "cell_type": "markdown",
   "id": "62f6b169",
   "metadata": {},
   "source": [
    "After calibration, the threshold seems to have little effect. We will therefore stick with the simple initial strategy."
   ]
  },
  {
   "cell_type": "markdown",
   "id": "978247aa",
   "metadata": {},
   "source": [
    "Let's test the result on df_validation directly on `main.py`"
   ]
  },
  {
   "cell_type": "markdown",
   "id": "a4e67e5a",
   "metadata": {},
   "source": [
    "## **3rd strategy**"
   ]
  },
  {
   "cell_type": "markdown",
   "id": "d8c9477a",
   "metadata": {},
   "source": [
    "**We will try a strategy based on the spread : RV(day_to_mat) - IV(day_to_mat historical)**"
   ]
  },
  {
   "cell_type": "code",
   "execution_count": 6,
   "id": "d05ecc3d",
   "metadata": {},
   "outputs": [],
   "source": [
    "df_filtered = pd.concat([df_train,df_validation], ignore_index = True)\n",
    "df_filtered = df_filtered[df_filtered['Date'] > \" 2016-03-01\"]"
   ]
  },
  {
   "cell_type": "code",
   "execution_count": 29,
   "id": "614a414f",
   "metadata": {},
   "outputs": [],
   "source": [
    "def get_prices_list_historical(date, nb_period):\n",
    "        ''' This function returns the list of spot prices for the nb_period preceding the date \n",
    "        provided as a parameter.\n",
    "\n",
    "        RETURNS\n",
    "        -------\n",
    "        type : list\n",
    "        '''\n",
    "        list_date = df_price['Date'].tolist()\n",
    "        id_date = list_date.index(date)\n",
    "        filtered = df_price.iloc[id_date - nb_period : id_date + 1]\n",
    "        return filtered['Price'].tolist()\n",
    "\n",
    "def get_realized_volatility(prices):\n",
    "    '''This function calculates the annualized realized volatility for a \n",
    "    given list of stock prices provided as the parameter prices.\n",
    "\n",
    "    RETURNS\n",
    "    -------\n",
    "    type : float\n",
    "    '''\n",
    "    log_returns = np.diff(np.log(prices))\n",
    "    realized_vol = np.sqrt(np.mean(log_returns ** 2) * 252)\n",
    "    return realized_vol"
   ]
  },
  {
   "cell_type": "code",
   "execution_count": null,
   "id": "f921a4ae",
   "metadata": {},
   "outputs": [
    {
     "data": {
      "text/plain": [
       "0.3506556812075462"
      ]
     },
     "execution_count": 15,
     "metadata": {},
     "output_type": "execute_result"
    }
   ],
   "source": [
    "get_realized_volatility(get_prices_list_historical(\" 2016-03-02\", 30))"
   ]
  },
  {
   "cell_type": "code",
   "execution_count": 7,
   "id": "ab4cba7d",
   "metadata": {},
   "outputs": [],
   "source": [
    "df_filtered = df_train[df_train['Date'] > \" 2016-03-01\"]"
   ]
  },
  {
   "cell_type": "code",
   "execution_count": null,
   "id": "0efdac4a",
   "metadata": {},
   "outputs": [],
   "source": [
    "spread_realized1 = [] # among positive historical spread (rv - iv)\n",
    "spread_realized2 = [] # among negative historical spread (rv - iv)\n",
    "for _,row in df_filtered.iterrows():\n",
    "    if get_realized_volatility(get_prices_list_historical(row['Date'],int(row['day_to_maturity']))) > row['IV']:\n",
    "        spread_realized1.append(row['vol_real'] - row['IV'])\n",
    "    elif get_realized_volatility(get_prices_list_historical(row['Date'],int(row['day_to_maturity']))) < row['IV']:\n",
    "        spread_realized2.append(row['vol_real'] - row['IV'])\n"
   ]
  },
  {
   "cell_type": "markdown",
   "id": "a06af9c9",
   "metadata": {},
   "source": [
    "Statistics on RV - IV when RV_historical(day_to_mat) - IV **>** 0"
   ]
  },
  {
   "cell_type": "code",
   "execution_count": null,
   "id": "83085c0f",
   "metadata": {},
   "outputs": [
    {
     "data": {
      "text/plain": [
       "count    2501.000000\n",
       "mean        0.004869\n",
       "std         0.140148\n",
       "min        -0.335740\n",
       "25%        -0.060660\n",
       "50%        -0.028390\n",
       "75%         0.019330\n",
       "max         0.790100\n",
       "dtype: float64"
      ]
     },
     "execution_count": 17,
     "metadata": {},
     "output_type": "execute_result"
    }
   ],
   "source": [
    "pd.Series(spread_realized1).describe()"
   ]
  },
  {
   "cell_type": "markdown",
   "id": "56b6f820",
   "metadata": {},
   "source": [
    "Statistics on RV - IV when RV_historical(day_to_mat) - IV **<** 0"
   ]
  },
  {
   "cell_type": "code",
   "execution_count": 18,
   "id": "ac52080a",
   "metadata": {},
   "outputs": [
    {
     "data": {
      "text/plain": [
       "count    3462.000000\n",
       "mean       -0.001687\n",
       "std         0.086539\n",
       "min        -0.249800\n",
       "25%        -0.052853\n",
       "50%        -0.011175\n",
       "75%         0.032195\n",
       "max         0.723810\n",
       "dtype: float64"
      ]
     },
     "execution_count": 18,
     "metadata": {},
     "output_type": "execute_result"
    }
   ],
   "source": [
    "pd.Series(spread_realized2).describe()"
   ]
  },
  {
   "cell_type": "code",
   "execution_count": null,
   "id": "04b6c8b9",
   "metadata": {},
   "outputs": [],
   "source": [
    "spread = [] # RV(past days) - IV\n",
    "spread_realized = [] # RV - IV\n",
    "for _,row in df_filtered.iterrows():\n",
    "    spread.append(get_realized_volatility(get_prices_list_historical(row['Date'],int(row['day_to_maturity']))) - row['IV'])\n",
    "    spread_realized.append(row['vol_real'] - row['IV'])"
   ]
  },
  {
   "cell_type": "code",
   "execution_count": 26,
   "id": "53b22a2b",
   "metadata": {},
   "outputs": [
    {
     "data": {
      "text/plain": [
       "count    5963.000000\n",
       "mean       -0.003894\n",
       "std         0.101483\n",
       "min        -0.373224\n",
       "25%        -0.068030\n",
       "50%        -0.018435\n",
       "75%         0.048472\n",
       "max         0.570276\n",
       "dtype: float64"
      ]
     },
     "execution_count": 26,
     "metadata": {},
     "output_type": "execute_result"
    }
   ],
   "source": [
    "pd.Series(spread).describe()"
   ]
  },
  {
   "cell_type": "code",
   "execution_count": 25,
   "id": "de691d4c",
   "metadata": {},
   "outputs": [
    {
     "name": "stdout",
     "output_type": "stream",
     "text": [
      "count    2501.000000\n",
      "mean        0.085594\n",
      "std         0.085768\n",
      "min         0.000166\n",
      "25%         0.029263\n",
      "50%         0.063575\n",
      "75%         0.109653\n",
      "max         0.570276\n",
      "dtype: float64\n",
      "count    3462.000000\n",
      "mean       -0.068540\n",
      "std         0.049601\n",
      "min        -0.373224\n",
      "25%        -0.094248\n",
      "50%        -0.059825\n",
      "75%        -0.031393\n",
      "max        -0.000042\n",
      "dtype: float64\n"
     ]
    }
   ],
   "source": [
    "spread_positif = [i for i in spread if i>0]\n",
    "spread_negatif = [i for i in spread if i<0]\n",
    "\n",
    "print(pd.Series(spread_positif).describe())\n",
    "print(pd.Series(spread_negatif).describe())\n"
   ]
  },
  {
   "cell_type": "code",
   "execution_count": 46,
   "id": "7f4048b6",
   "metadata": {},
   "outputs": [],
   "source": [
    "spread_realized_positif = []\n",
    "spread_realized_negatif = []\n",
    "for _,row in df_filtered.iterrows():\n",
    "    spr = get_realized_volatility(get_prices_list_historical(row['Date'],int(row['day_to_maturity']))) - row['IV']\n",
    "    if (spr in spread_positif) and (spr > np.percentile(spread_positif,90)):\n",
    "        spread_realized_positif.append(row['vol_real'] - row['IV'])\n",
    "    elif (spr in spread_negatif) and (spr < np.percentile(spread_negatif,10)):\n",
    "        spread_realized_negatif.append(row['vol_real'] - row['IV'])"
   ]
  },
  {
   "cell_type": "code",
   "execution_count": null,
   "id": "149e9186",
   "metadata": {},
   "outputs": [
    {
     "name": "stdout",
     "output_type": "stream",
     "text": [
      "count    250.000000\n",
      "mean       0.001568\n",
      "std        0.196037\n",
      "min       -0.246990\n",
      "25%       -0.106497\n",
      "50%       -0.047645\n",
      "75%        0.015195\n",
      "max        0.790100\n",
      "dtype: float64\n",
      "count    347.000000\n",
      "mean      -0.000978\n",
      "std        0.087984\n",
      "min       -0.249800\n",
      "25%       -0.055890\n",
      "50%        0.006880\n",
      "75%        0.058775\n",
      "max        0.265820\n",
      "dtype: float64\n"
     ]
    }
   ],
   "source": [
    "print(pd.Series(spread_realized_positif).describe()) # Statistic of realized volatility - IV when the spread of historical vol - IV > quantile(0.9) of all positive spread\n",
    "print(pd.Series(spread_realized_negatif).describe()) # Statistic of realized volatility - IV when the spread of historical vol - IV < quantile(0.1) of all negative spread"
   ]
  },
  {
   "cell_type": "code",
   "execution_count": 53,
   "id": "c8c0d542",
   "metadata": {},
   "outputs": [
    {
     "data": {
      "image/png": "[encoded data removed]",
      "text/plain": [
       "<Figure size 1008x360 with 2 Axes>"
      ]
     },
     "metadata": {
      "needs_background": "light"
     },
     "output_type": "display_data"
    }
   ],
   "source": [
    "fig, axes = plt.subplots(1, 2, figsize=(14,5))\n",
    "\n",
    "axes[0].hist(spread_realized_negatif, bins=30, edgecolor='black', alpha=0.7)\n",
    "axes[0].set_title(\"Histogram spread_realized_négatif\")\n",
    "axes[0].set_xlabel(\"Values\")\n",
    "axes[0].set_ylabel(\"Fréquence\")\n",
    "axes[0].grid(alpha=0.3)\n",
    "\n",
    "axes[1].hist(spread_realized_positif, bins=30, edgecolor='black', alpha=0.7)\n",
    "axes[1].set_title(\"Histogram spread_realized_positif\")\n",
    "axes[1].set_xlabel(\"Values\")\n",
    "axes[1].set_ylabel(\"Fréquence\")\n",
    "axes[1].grid(alpha=0.3)\n",
    "\n",
    "plt.tight_layout()\n",
    "plt.show()"
   ]
  },
  {
   "cell_type": "markdown",
   "id": "ea73cec4",
   "metadata": {},
   "source": [
    "**REMARK** : From the previous statistics, we observe that when historical volatility is significantly higher than implied volatility (i.e., when the spread RV – IV is above the 90th quantile among positive spreads), the option tends to be overpriced.\n",
    "Conversely, when the spread RV – IV is below the 10th quantile among negative spreads (i.e., when IV is much larger than historical volatility), then IV tends to be underpriced.\n",
    "\n",
    "These two results are highly against the common intuition."
   ]
  },
  {
   "cell_type": "code",
   "execution_count": 55,
   "id": "c72fbb2e",
   "metadata": {},
   "outputs": [
    {
     "name": "stdout",
     "output_type": "stream",
     "text": [
      "succes of 59.12897822445561% on 597\n"
     ]
    }
   ],
   "source": [
    "trade_valid=[]\n",
    "for _,row in df_filtered.iterrows():\n",
    "    spr = get_realized_volatility(get_prices_list_historical(row['Date'],int(row['day_to_maturity']))) - row['IV'] # spread \n",
    "    if (spr in spread_positif) and (spr > np.percentile(spread_positif,90)): # SHORT\n",
    "        trade_valid.append(row['vol_real'] < row['IV'])\n",
    "    elif (spr in spread_negatif) and (spr < np.percentile(spread_negatif,10)): # LONG\n",
    "        trade_valid.append(row['vol_real'] > row['IV'])\n",
    "print(f\"succes of {np.mean(trade_valid) * 100}% on {len(trade_valid)}\")"
   ]
  },
  {
   "cell_type": "markdown",
   "id": "e03c7111",
   "metadata": {},
   "source": [
    "We will now try to implement this strategy and backtest it directly in the main backtesting architecture and backtest it on `main.ipynb`"
   ]
  },
  {
   "cell_type": "code",
   "execution_count": 82,
   "id": "83fd36e1",
   "metadata": {},
   "outputs": [
    {
     "name": "stdout",
     "output_type": "stream",
     "text": [
      "there are 37.71532184950136% date where not all IV are > or < to RV\n"
     ]
    }
   ],
   "source": [
    "temp = 0\n",
    "for d in df_train['Date'].unique():\n",
    "    df_filt = df_train[df_train['Date'] == d]\n",
    "    if not (all(df_filt['IV'] > df_filt['vol_real']) or all(df_filt['IV'] < df_filt['vol_real'])):\n",
    "        temp+=1\n",
    "print(f\"there are {temp/len(df_train['Date'].unique()) * 100}% date where not all IV are > or < to RV\")"
   ]
  },
  {
   "cell_type": "code",
   "execution_count": 83,
   "id": "1baee134",
   "metadata": {},
   "outputs": [
    {
     "name": "stdout",
     "output_type": "stream",
     "text": [
      "there are 34.862385321100916% date where not all IV are > or < to RV\n"
     ]
    }
   ],
   "source": [
    "temp = 0\n",
    "for d in df_validation['Date'].unique():\n",
    "    df_filt = df_validation[df_validation['Date'] == d]\n",
    "    if not (all(df_filt['IV'] > df_filt['vol_real']) or all(df_filt['IV'] < df_filt['vol_real'])):\n",
    "        temp+=1\n",
    "print(f\"there are {temp/len(df_validation['Date'].unique()) * 100}% date where not all IV are > or < to RV\")"
   ]
  }
 ],
 "metadata": {
  "kernelspec": {
   "display_name": "Python 3",
   "language": "python",
   "name": "python3"
  },
  "language_info": {
   "codemirror_mode": {
    "name": "ipython",
    "version": 3
   },
   "file_extension": ".py",
   "mimetype": "text/x-python",
   "name": "python",
   "nbconvert_exporter": "python",
   "pygments_lexer": "ipython3",
   "version": "3.10.4"
  }
 },
 "nbformat": 4,
 "nbformat_minor": 5
}
