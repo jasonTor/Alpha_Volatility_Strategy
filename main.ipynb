{
 "cells": [
  {
   "cell_type": "markdown",
   "id": "096f72b6",
   "metadata": {},
   "source": [
    "# **ALPHA VOLATILITY GENERATION - SYSTEMATIC TRADING STRATEGIES PROJECT**"
   ]
  },
  {
   "cell_type": "code",
   "execution_count": 1,
   "id": "fc8b6699",
   "metadata": {},
   "outputs": [],
   "source": [
    "import numpy as np\n",
    "from scipy.stats import norm\n",
    "import pandas as pd\n",
    "import importlib"
   ]
  },
  {
   "cell_type": "code",
   "execution_count": 2,
   "id": "e74bcac8",
   "metadata": {},
   "outputs": [],
   "source": [
    "from Data.market_data import Market_data\n",
    "from backtester import Backtester"
   ]
  },
  {
   "cell_type": "code",
   "execution_count": 3,
   "id": "bc887e85",
   "metadata": {},
   "outputs": [],
   "source": [
    "from strategy.base_strat import BaseStrategy\n",
    "from strategy.regression_network import Regression_realvol, Regression_IV, Regression_IVvsRV"
   ]
  },
  {
   "cell_type": "code",
   "execution_count": 4,
   "id": "72bda04f",
   "metadata": {},
   "outputs": [],
   "source": [
    "df_train = pd.read_pickle(\"df_train.pkl\")\n",
    "df_validation = pd.read_pickle(\"df_validation.pkl\")\n",
    "df_test = pd.read_pickle(\"df_test.pkl\")\n",
    "df_price = pd.read_pickle(\"df_price.pkl\")\n",
    "df_option = pd.read_pickle(\"df_merged.pkl\")"
   ]
  },
  {
   "cell_type": "code",
   "execution_count": 5,
   "id": "88465edb",
   "metadata": {},
   "outputs": [],
   "source": [
    "data = Market_data(df_train,df_validation,df_test,df_price,df_option)"
   ]
  },
  {
   "cell_type": "markdown",
   "id": "f7b7dcad",
   "metadata": {},
   "source": [
    "----"
   ]
  },
  {
   "cell_type": "markdown",
   "id": "169bf43f",
   "metadata": {},
   "source": [
    "----"
   ]
  },
  {
   "cell_type": "markdown",
   "id": "6af5d913",
   "metadata": {},
   "source": [
    "# **Regression network : Strategy based on a linear regression between implied volatility (IV) and realized volatility (RV)**"
   ]
  },
  {
   "cell_type": "markdown",
   "id": "7ad80d44",
   "metadata": {},
   "source": [
    "The strategy takes advantage of differences between implied volatility (IV) and realized volatility (RV) to find trading opportunities. For each option, the last 10 dates are considered, and a linear regression between IV and RV is performed to extract the slope, which reflects the recent trend. Here is the momentum strategy we have chosen **based on what worked best during the backtesting**  :\n",
    "\n",
    "- **LONG signal:**  \n",
    "  If (the IV slope is above the 80th percentile of past slopes) **and** (the RV slope is below the 20th percentile), IV is overestimated compared to RV, and the strategy goes **LONG**.\n",
    "\n",
    "- **SHORT signal:**  \n",
    "  Conversely, if (the IV slope is below the 20th percentile) **and** (the RV slope is above the 80th percentile), IV is underestimated compared to RV, and the strategy goes **SHORT**.\n",
    "\n",
    "The strategy exploits recent imbalances between implied and realized volatility, buying when the market overestimates volatility and selling when it underestimates it.\n"
   ]
  },
  {
   "cell_type": "markdown",
   "id": "4e66c874",
   "metadata": {},
   "source": [
    "**DRAWBACK** : The main drawback of this strategy is that IV is aggregated using a simple daily average (by quote_date of the straddle). As a result, the strategy does not capture the term structure of volatility. The slope obtained from the regression over the last nb_period days only reflects the average IV trend, which is then compared to realized volatility (standard deviation of returns over the last nb_period days), calculated in the same way.\n",
    "\n",
    "To sum up, the strategy does not take into account the term structure of straddles during the backtest. Moreover, the choice of quantiles was arbitrary, based on exploratory data analysis, and the window size (nb_period = 10) was also chosen in the same way."
   ]
  },
  {
   "cell_type": "code",
   "execution_count": 6,
   "id": "660ac37b",
   "metadata": {},
   "outputs": [],
   "source": [
    "regrv = Regression_realvol(data, 10)\n",
    "regiv = Regression_IV(data, 10)\n",
    "regivrv = Regression_IVvsRV(regiv, regrv, data, 10)"
   ]
  },
  {
   "cell_type": "code",
   "execution_count": 7,
   "id": "54e7b6b7",
   "metadata": {},
   "outputs": [],
   "source": [
    "back = Backtester(data,regivrv)"
   ]
  },
  {
   "cell_type": "code",
   "execution_count": 8,
   "id": "758f02f8",
   "metadata": {},
   "outputs": [
    {
     "name": "stdout",
     "output_type": "stream",
     "text": [
      "The strategy achieved a success rate of 59.53% on 850 straddle trades in df_train.\n",
      "The strategy achieved a success rate of 100.00% on 14 straddle trades in df_validation.\n",
      "None\n",
      "PNL:127.29262945552922, ROI:1.5535199632836612 %\n",
      "None\n",
      "PNL:26.74093148660205, ROI:23.681306665428668 %\n",
      "None\n"
     ]
    }
   ],
   "source": [
    "print(back.run_backtest_IVvsRV()) # IV under RV over and IV over RV under\n",
    "print(back.run_backtest_train())\n",
    "print(back.run_backtest_validation())"
   ]
  },
  {
   "cell_type": "markdown",
   "id": "89ca9392",
   "metadata": {},
   "source": [
    "------"
   ]
  },
  {
   "cell_type": "markdown",
   "id": "5acfcfa0",
   "metadata": {},
   "source": [
    "-----"
   ]
  },
  {
   "cell_type": "markdown",
   "id": "5eb72ee9",
   "metadata": {},
   "source": [
    "# **Garch strat**"
   ]
  },
  {
   "cell_type": "markdown",
   "id": "fea287e8",
   "metadata": {},
   "source": [
    "This strategy uses a GARCH(1,1) model to predict the realized volatility of the underlying.\n",
    "I trade only when the predicted volatility is either higher than all implied volatilities (IVs) or lower than all IVs.\n",
    "\n",
    "- **LONG signal:**  \n",
    "  If predicted vol < all IVs and the option IV is in the lowest quartile → **LONG**.\n",
    "\n",
    "- **SHORT signal:**  \n",
    "  If predicted vol > all IVs and the option IV is in the highest quartile → **SHORT**.\n",
    "\n",
    "The goal is to exploit extreme situations where model forecasts strongly disagree with market IVs. The strategy is calibrated on a rolling window of spot prices using a GARCH model.\n",
    "It was then adapted and tuned to perform on df_validation, after training the GARCH on sliding spot data.\n",
    "\n",
    "**Remark and observation** : We notice that as the filter criteria applied to the straddles become stricter, the success rate gradually decreases (48% → 46% → 45% → 41% of correct signals, see ***exploratory_analysis.ipynb***), while the number of trades in the filtered universe remains reasonable. The results thus become inconsistent with the strategy’s intuition. It is therefore better to use the **inverse** signal of the strategy."
   ]
  },
  {
   "cell_type": "code",
   "execution_count": 10,
   "id": "cfba4b08",
   "metadata": {},
   "outputs": [],
   "source": [
    "from strategy.garch_strat import Garch_strat"
   ]
  },
  {
   "cell_type": "code",
   "execution_count": 11,
   "id": "8e7aa0d8",
   "metadata": {},
   "outputs": [],
   "source": [
    "stratgarch = Garch_strat(data)\n",
    "back = Backtester(data,stratgarch)"
   ]
  },
  {
   "cell_type": "code",
   "execution_count": 12,
   "id": "ef788b94",
   "metadata": {},
   "outputs": [
    {
     "name": "stdout",
     "output_type": "stream",
     "text": [
      "PNL:521.7840162818576, ROI:8.598024540579168 %\n"
     ]
    }
   ],
   "source": [
    "back.run_backtest_validation()"
   ]
  },
  {
   "cell_type": "markdown",
   "id": "d3fa7721",
   "metadata": {},
   "source": [
    "The strategy has well performed on df_validation"
   ]
  },
  {
   "cell_type": "markdown",
   "id": "afe75b3c",
   "metadata": {},
   "source": [
    "---"
   ]
  },
  {
   "cell_type": "markdown",
   "id": "d3ca2058",
   "metadata": {},
   "source": [
    "---"
   ]
  },
  {
   "cell_type": "markdown",
   "id": "0e0a400a",
   "metadata": {},
   "source": [
    "# **Regime Switching strategy : statistical strat (model free) and Markov regime switching (HMM)**"
   ]
  },
  {
   "cell_type": "markdown",
   "id": "253915cd",
   "metadata": {},
   "source": [
    "The idea of the strategies are to exploit sudden regime shifts to build a signal that identifies whether an option is underpriced or overpriced, based on its phase shift relative to the realized volatility. \n",
    "\n",
    "An asset’s volatility (whether realized volatility or implied volatility) does not evolve uniformly. It alternates between different “states” or “regimes” (e.g., High Vol / Low Vol), each with its own statistical characteristics.\n",
    "\n",
    "Retained Strategy : exploit these moments of sudden phase shifts to create a signal:\n",
    "\n",
    "\n",
    "- If RV suddenly rises but IV lags → the options market underestimates the volatility regime: **LONG** volatility opportunity.\n",
    "\n",
    "- If RV suddenly drops → one could think the straddles are probably overpriced: **SHORT** volatility opportunity."
   ]
  },
  {
   "cell_type": "markdown",
   "id": "be974b17",
   "metadata": {},
   "source": [
    "### **First Strategy: Regime identification using thresholds (Free-Model and Non-Parametric Approach)**\n",
    "\n",
    "The first strategy we designed to model volatility regime shifts is a purely statistical, non-parametric approach. \n",
    "The idea is to identify volatility regimes using thresholds rather than relying on parametric models.  \n",
    "\n",
    "For each option, we compute the daily **log-return** and compare it with the **10-day historical volatility**.  \n",
    "The trading signal is then constructed as follows:  \n",
    "\n",
    "- **High-volatility regime (LONG signal):**  \n",
    "  If $|\\text{log return}| > \\text{threshold}_{high} \\times \\text{vol}_{10d}$,  \n",
    "  the market signals a regime shift into a high-volatility state → **LONG straddle**.  \n",
    "\n",
    "- **Low-volatility regime (SHORT signal):**  \n",
    "  If $|\\text{log return}| < \\text{threshold}_{low} \\times \\text{vol}_{10d}$,  \n",
    "  the market signals a regime shift into a low-volatility state → **SHORT straddle**.  \n",
    "\n",
    "The thresholds ($\\text{threshold}_{high}, \\text{threshold}_{low}$) are calibrated in the \n",
    "`exploratory_analysis.ipynb` notebook using the training dataset **df_train**.\n"
   ]
  },
  {
   "cell_type": "code",
   "execution_count": 7,
   "id": "3e244e40",
   "metadata": {},
   "outputs": [],
   "source": [
    "from strategy.regime_switching_strat import Regime_switching_modelfree\n",
    "from strategy.regime_switching_strat import Regime_switching_HMM"
   ]
  },
  {
   "cell_type": "code",
   "execution_count": 30,
   "id": "1313bbcc",
   "metadata": {},
   "outputs": [
    {
     "name": "stderr",
     "output_type": "stream",
     "text": [
      "d:\\Users\\Jason\\Desktop\\ALPHA projet\\strategy\\regime_switching_strat.py:31: UserWarning: Boolean Series key will be reindexed to match DataFrame index.\n",
      "  df_train_sub = df_train_sub[self.market_data.df_train['Date'] > \" 2016-03-01\"].copy()\n"
     ]
    }
   ],
   "source": [
    "reg_switch_freemod = Regime_switching_modelfree(data)\n",
    "back = Backtester(data,reg_switch_freemod)"
   ]
  },
  {
   "cell_type": "code",
   "execution_count": 31,
   "id": "1183fad0",
   "metadata": {},
   "outputs": [
    {
     "name": "stdout",
     "output_type": "stream",
     "text": [
      "The strategy achieved a success rate of 63.44% on 1209 straddle trades in df_train.\n",
      "The strategy achieved a success rate of 61.64% on 232 straddle trades in df_validation.\n"
     ]
    }
   ],
   "source": [
    "back.run_backtest_IVvsRV()"
   ]
  },
  {
   "cell_type": "code",
   "execution_count": 32,
   "id": "40c5c5d3",
   "metadata": {},
   "outputs": [
    {
     "name": "stdout",
     "output_type": "stream",
     "text": [
      "Result on df_train : PNL:-290.3683528327171, ROI:-2.6202840830417102 %\n"
     ]
    }
   ],
   "source": [
    "back.run_backtest_train()"
   ]
  },
  {
   "cell_type": "code",
   "execution_count": 33,
   "id": "6256d0a6",
   "metadata": {},
   "outputs": [
    {
     "name": "stdout",
     "output_type": "stream",
     "text": [
      "Result on df_validation : PNL:122.14688399753324, ROI:7.107306718658298 %\n"
     ]
    }
   ],
   "source": [
    "back.run_backtest_validation()"
   ]
  },
  {
   "cell_type": "markdown",
   "id": "9054446b",
   "metadata": {},
   "source": [
    "**Note**: \n",
    "\n",
    "This strategy appears to be particularly sensitive to SHORT signals, as observed in the exploratory_analysis.ipynb file. In volatility trading, risks are asymmetric: a losing long volatility position is limited to the premium paid, while a losing short volatility position can lead to potentially unlimited losses in a market shock, since volatility has no upper limit."
   ]
  },
  {
   "cell_type": "markdown",
   "id": "3d52e061",
   "metadata": {},
   "source": [
    "### **Second Strategy: Regime identification using gaussian HMM**  \n",
    "\n",
    "In this second part on regime-switching strategies, we apply a Hidden Markov Model (HMM) to capture volatility regimes and their transitions. The model is built with 3 states: low, middle, and high, using the hmmlearn package.\n",
    "\n",
    "After fitting the model on df_train, it outputs an n × 3 probability matrix, where each row (each date) gives the probabilities of being in each regime. This matrix is row-stochastic. To build a trading signal, we focus only on state 1 (low regime) and state 3 (high regime), with conditions: proba_low > seuil_low and proba_high > seuil_high.\n",
    "\n",
    "From the threshold calibration (see `exploratory_analysis.ipynb`), we observed that the model performs **much better** on SHORT signals: about 80% accuracy on df_train, compared to only 56% for long signals. Therefore, we only keep short signals.  \n",
    "\n",
    "The final stratégy is :\n",
    "- **Low-volatility regime (SHORT signal ONLY):**  \n",
    "  If 5-day realized volatility (RV_5d) > IV and the probability of being in the low regime exceeds seuil_low: SHORT  "
   ]
  },
  {
   "cell_type": "code",
   "execution_count": 8,
   "id": "9fef5fa8",
   "metadata": {},
   "outputs": [],
   "source": [
    "reg_switch_hmm = Regime_switching_HMM(data)\n",
    "back = Backtester(data,reg_switch_hmm)"
   ]
  },
  {
   "cell_type": "code",
   "execution_count": 9,
   "id": "a52522cb",
   "metadata": {},
   "outputs": [
    {
     "name": "stdout",
     "output_type": "stream",
     "text": [
      "Result on df_validation : PNL:188.2466034554905, ROI:12.138363948279023 %\n"
     ]
    }
   ],
   "source": [
    "back.run_backtest_validation()"
   ]
  }
 ],
 "metadata": {
  "kernelspec": {
   "display_name": "Python 3",
   "language": "python",
   "name": "python3"
  },
  "language_info": {
   "codemirror_mode": {
    "name": "ipython",
    "version": 3
   },
   "file_extension": ".py",
   "mimetype": "text/x-python",
   "name": "python",
   "nbconvert_exporter": "python",
   "pygments_lexer": "ipython3",
   "version": "3.10.4"
  }
 },
 "nbformat": 4,
 "nbformat_minor": 5
}
