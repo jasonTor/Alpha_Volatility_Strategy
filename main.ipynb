{
 "cells": [
  {
   "cell_type": "markdown",
   "id": "096f72b6",
   "metadata": {},
   "source": [
    "# **ALPHA VOLATILITY GENERATION - SYSTEMATIC TRADING STRATEGIES PROJECT**"
   ]
  },
  {
   "cell_type": "code",
   "execution_count": 1,
   "id": "fc8b6699",
   "metadata": {},
   "outputs": [],
   "source": [
    "import numpy as np\n",
    "from scipy.stats import norm\n",
    "import pandas as pd\n",
    "import importlib"
   ]
  },
  {
   "cell_type": "code",
   "execution_count": 2,
   "id": "e74bcac8",
   "metadata": {},
   "outputs": [],
   "source": [
    "from Data.market_data import Market_data\n",
    "from backtester import Backtester"
   ]
  },
  {
   "cell_type": "code",
   "execution_count": 3,
   "id": "bc887e85",
   "metadata": {},
   "outputs": [],
   "source": [
    "from strategy.base_strat import BaseStrategy\n",
    "from strategy.regression_network import Regression_realvol, Regression_IV, Regression_IVvsRV"
   ]
  },
  {
   "cell_type": "code",
   "execution_count": 4,
   "id": "72bda04f",
   "metadata": {},
   "outputs": [],
   "source": [
    "df_train = pd.read_pickle(\"df_train.pkl\")\n",
    "df_validation = pd.read_pickle(\"df_validation.pkl\")\n",
    "df_test = pd.read_pickle(\"df_test.pkl\")\n",
    "df_price = pd.read_pickle(\"df_price.pkl\")\n",
    "df_option = pd.read_pickle(\"df_merged.pkl\")"
   ]
  },
  {
   "cell_type": "code",
   "execution_count": 5,
   "id": "88465edb",
   "metadata": {},
   "outputs": [],
   "source": [
    "data = Market_data(df_train,df_validation,df_test,df_price,df_option)"
   ]
  },
  {
   "cell_type": "markdown",
   "id": "f7b7dcad",
   "metadata": {},
   "source": [
    "----"
   ]
  },
  {
   "cell_type": "markdown",
   "id": "169bf43f",
   "metadata": {},
   "source": [
    "----"
   ]
  },
  {
   "cell_type": "markdown",
   "id": "1ec0af90",
   "metadata": {},
   "source": [
    "# **Statistical strategy : Strategy based on heuristic statistical approach to understand volatilities dynamics**"
   ]
  },
  {
   "cell_type": "markdown",
   "id": "8a808aee",
   "metadata": {},
   "source": [
    "As a first step, we use a manual and heuristic statistical approach to study and predict volatility. Instead of using complex mathematical models or machine learning, we build and test alphas based on simple observations, statistical patterns, and market intuition. The core idea is to leverage well-known features of volatility such as clustering, mean reversion, term structure, the gap between implied and realized volatility, and cross-reactions between IV and RV and translate them into tradable signals.\n",
    "\n",
    "**Advantages**:\n",
    "- Allows quick exploration of potential behaviors without complex models.\n",
    "- Builds an initial understanding and intuition of IV vs RV dynamics.\n",
    "- Strategies are easy to interpret, reproduce, and explain.\n",
    "\n",
    "**Drawbacks**:\n",
    "- Can quickly become obsolete, fragile, and unable to capture complex dynamics.\n",
    "- Limited generalization power.\n",
    "- Markets often behave counter-intuitively: simple rules like “if volatility goes up, it will keep going up” can be misleading. The most robust signals are sometimes the ones that seem the most counter-intuitive."
   ]
  },
  {
   "cell_type": "markdown",
   "id": "ae613318",
   "metadata": {},
   "source": [
    "### **1st strategy**:\n",
    "\n",
    "For a given quoted straddle, we look at the absolute log-returns of the last 3 days and the average IV (all maturities) over the same period. \n",
    "The strategy that performed best on df_train is the following:\n",
    "\n",
    "- **LONG signal:**  \n",
    "  If |log-return| is increasing and IV is also increasing → **LONG**\n",
    "\n",
    "- **SHORT signal:**  \n",
    "  If |log-return| is decreasing and IV is also decreasing →  **SHORT**."
   ]
  },
  {
   "cell_type": "code",
   "execution_count": 6,
   "id": "f3e0bf1d",
   "metadata": {},
   "outputs": [],
   "source": [
    "from strategy.statistical_strat import Statistical_strat1"
   ]
  },
  {
   "cell_type": "code",
   "execution_count": 7,
   "id": "4285c727",
   "metadata": {},
   "outputs": [],
   "source": [
    "stat_strat1 = Statistical_strat1(data)\n",
    "back = Backtester(data,stat_strat1)"
   ]
  },
  {
   "cell_type": "code",
   "execution_count": 8,
   "id": "b490d535",
   "metadata": {},
   "outputs": [
    {
     "name": "stdout",
     "output_type": "stream",
     "text": [
      "================================================================================\n",
      "IV vs RV BACKTEST RESULTS - TRAIN SET\n",
      "================================================================================\n",
      "Total trades: 603\n",
      "LONG trades: 276 - (RV > IV) Success rate: 42.03% versus 38% in df_train\n",
      "SHORT trades: 327 - (RV < IV) Success rate: 57.19% versus 62% in df_train\n",
      "OVERALL success rate: 50.25%\n",
      "\n",
      "================================================================================\n",
      "IV vs RV BACKTEST RESULTS - VALIDATION SET\n",
      "================================================================================\n",
      "Total trades: 125\n",
      "LONG trades: 62 - (RV > IV) Success rate: 19.35% versus 25% in df_validation\n",
      "SHORT trades: 63 - (RV < IV) Success rate: 85.71% versus 75% in df_validation\n",
      "OVERALL success rate: 52.80%\n",
      "================================================================================\n"
     ]
    }
   ],
   "source": [
    "back.run_backtest_IVvsRV() # IV under RV over and IV over RV under"
   ]
  },
  {
   "cell_type": "code",
   "execution_count": 9,
   "id": "7e0cf993",
   "metadata": {},
   "outputs": [
    {
     "name": "stdout",
     "output_type": "stream",
     "text": [
      "Result on df_train : PNL:227.9232588989485, ROI:3.930341570268134 %\n"
     ]
    }
   ],
   "source": [
    "back.run_backtest_train()"
   ]
  },
  {
   "cell_type": "code",
   "execution_count": 10,
   "id": "cfee7359",
   "metadata": {},
   "outputs": [
    {
     "name": "stdout",
     "output_type": "stream",
     "text": [
      "Result on df_validation : PNL:-13.14461460209089, ROI:-1.323914207651722 %\n"
     ]
    }
   ],
   "source": [
    "back.run_backtest_validation()"
   ]
  },
  {
   "cell_type": "markdown",
   "id": "bb881209",
   "metadata": {},
   "source": [
    "**Observation** : The strategy was  performant in the df_train especially to catch LONG alpha. On df_validation backtest, it worked very well for SHORT signals, as shown by the results. However, the LONG signals were too frequent and not strong or selective enough, which weakened the PnL performance generated by the good SHORT signals."
   ]
  },
  {
   "cell_type": "markdown",
   "id": "7c59c5c6",
   "metadata": {},
   "source": [
    "### **2nd strategy**: \n",
    "### **term structure statistical analysis**\n",
    "\n",
    "For this second strategy, we studied the term structure of implied volatility. In `exploratory_analysis2`. Since we were unable to generate a long vol alpha that outperforms the LONG accuracy on df_train straddles (38%) due to the structural bias in option prices, we will focus on short vol signals this way, we will have a higher chance of generating positive PnL.\n",
    "\n",
    "We then tried to improve the signal: for upward-sloping term structures, we measured the slope using a linear regression. The idea was: if the slope is above a certain quantile, relative to all slopes calculated on df_train, then we short.\n",
    "\n",
    "However, after calibrating this threshold on df_train, the results were not significantly better. Therefore, we keep the initial, simpler strategy."
   ]
  },
  {
   "cell_type": "markdown",
   "id": "6b19a196",
   "metadata": {},
   "source": [
    "- **SHORT signal:**  \n",
    "  If the term structure is increasing → **SHORT**"
   ]
  },
  {
   "cell_type": "code",
   "execution_count": 11,
   "id": "5da632ae",
   "metadata": {},
   "outputs": [],
   "source": [
    "from strategy.statistical_strat import Statistical_strat2"
   ]
  },
  {
   "cell_type": "code",
   "execution_count": 12,
   "id": "31980843",
   "metadata": {},
   "outputs": [],
   "source": [
    "stat_strat2 = Statistical_strat2(data)\n",
    "back = Backtester(data,stat_strat2)"
   ]
  },
  {
   "cell_type": "code",
   "execution_count": 13,
   "id": "9f5205bf",
   "metadata": {},
   "outputs": [
    {
     "name": "stdout",
     "output_type": "stream",
     "text": [
      "================================================================================\n",
      "IV vs RV BACKTEST RESULTS - TRAIN SET\n",
      "================================================================================\n",
      "Total trades: 872\n",
      "LONG trades: 0 - (RV > IV) Success rate: 0.00% versus 38% in df_train\n",
      "SHORT trades: 872 - (RV < IV) Success rate: 66.51% versus 62% in df_train\n",
      "OVERALL success rate: 66.51%\n",
      "\n",
      "================================================================================\n",
      "IV vs RV BACKTEST RESULTS - VALIDATION SET\n",
      "================================================================================\n",
      "Total trades: 201\n",
      "LONG trades: 0 - (RV > IV) Success rate: 0.00% versus 25% in df_validation\n",
      "SHORT trades: 201 - (RV < IV) Success rate: 52.74% versus 75% in df_validation\n",
      "OVERALL success rate: 52.74%\n",
      "================================================================================\n"
     ]
    }
   ],
   "source": [
    "back.run_backtest_IVvsRV() # IV under RV over and IV over RV under"
   ]
  },
  {
   "cell_type": "code",
   "execution_count": 14,
   "id": "af4d5b6f",
   "metadata": {},
   "outputs": [
    {
     "name": "stdout",
     "output_type": "stream",
     "text": [
      "Result on df_train : PNL:69.48952439484158, ROI:1.067990114527956 %\n"
     ]
    }
   ],
   "source": [
    "back.run_backtest_train()"
   ]
  },
  {
   "cell_type": "code",
   "execution_count": 15,
   "id": "db0fde05",
   "metadata": {},
   "outputs": [
    {
     "name": "stdout",
     "output_type": "stream",
     "text": [
      "Result on df_validation : PNL:7.094793381853656, ROI:0.5236280384856531 %\n"
     ]
    }
   ],
   "source": [
    "back.run_backtest_validation()"
   ]
  },
  {
   "cell_type": "markdown",
   "id": "a8f6c9fe",
   "metadata": {},
   "source": [
    "### **3rd strategy**: \n",
    "### **strategy based on the spread**\n",
    "\n",
    "We study a strategy based on the spread : historical_RV(day_to_mat) - IV\n",
    "\n",
    "We have been able to observe in `exploratory_analysis2` file that when historical volatility is significantly higher than implied volatility (i.e., when the spread RV – IV is above the 90th quantile among positive spreads), the option tends to be overpriced.\n",
    "\n",
    "Conversely, when the spread RV – IV is below the 20th quantile among negative spreads (i.e., when IV is much larger than historical volatility), then IV tends to be underpriced with an accuracy of 52% which is better than the random chance = 38% of accuracy on df_train because of the structural bias on option vol prices .\n",
    "\n",
    "Let's retain the following strategy :\n",
    "\n",
    "- **SHORT signal:**  \n",
    "  If historical_RV > (IV with spread > quantile(90%)) among positive spread → **SHORT**\n",
    "\n",
    "- **LONG signal:**  \n",
    "  If historical_RV < (IV with spread < quantile(10%)) among negative spread → **LONG**"
   ]
  },
  {
   "cell_type": "code",
   "execution_count": 16,
   "id": "afcaac63",
   "metadata": {},
   "outputs": [],
   "source": [
    "from strategy.statistical_strat import Statistical_strat3"
   ]
  },
  {
   "cell_type": "code",
   "execution_count": 17,
   "id": "9e3795d8",
   "metadata": {},
   "outputs": [],
   "source": [
    "stat_strat3 = Statistical_strat3(data)\n",
    "back = Backtester(data,stat_strat3)"
   ]
  },
  {
   "cell_type": "code",
   "execution_count": 18,
   "id": "5e768562",
   "metadata": {},
   "outputs": [
    {
     "name": "stdout",
     "output_type": "stream",
     "text": [
      "================================================================================\n",
      "IV vs RV BACKTEST RESULTS - TRAIN SET\n",
      "================================================================================\n",
      "Total trades: 1193\n",
      "LONG trades: 693 - (RV > IV) Success rate: 52.53% versus 38% in df_train\n",
      "SHORT trades: 500 - (RV < IV) Success rate: 64.40% versus 62% in df_train\n",
      "OVERALL success rate: 57.50%\n",
      "\n",
      "================================================================================\n",
      "IV vs RV BACKTEST RESULTS - VALIDATION SET\n",
      "================================================================================\n",
      "Total trades: 99\n",
      "LONG trades: 94 - (RV > IV) Success rate: 17.02% versus 25% in df_validation\n",
      "SHORT trades: 5 - (RV < IV) Success rate: 100.00% versus 75% in df_validation\n",
      "OVERALL success rate: 21.21%\n",
      "================================================================================\n"
     ]
    }
   ],
   "source": [
    "back.run_backtest_IVvsRV() # IV under RV over and IV over RV under"
   ]
  },
  {
   "cell_type": "code",
   "execution_count": 19,
   "id": "815a2b85",
   "metadata": {},
   "outputs": [
    {
     "name": "stdout",
     "output_type": "stream",
     "text": [
      "Result on df_train : PNL:988.9404623719468, ROI:6.834934092284402 %\n"
     ]
    }
   ],
   "source": [
    "back.run_backtest_train()"
   ]
  },
  {
   "cell_type": "code",
   "execution_count": 20,
   "id": "2d6c0827",
   "metadata": {},
   "outputs": [
    {
     "name": "stdout",
     "output_type": "stream",
     "text": [
      "Result on df_validation : PNL:-210.78644624393996, ROI:-23.43165101980257 %\n"
     ]
    }
   ],
   "source": [
    "back.run_backtest_validation()"
   ]
  },
  {
   "cell_type": "markdown",
   "id": "0dfa327b",
   "metadata": {},
   "source": [
    "**REMARK**: Although this strategy looked particularly effective on df_train based on the descriptive statistics from `exploratory_analysis2`, which suggested a link between the spread (historical RV – IV) and the actual IV vs RV outcome, it does not seem to generalize well on df_validation. There were not SHORT signal enough to compensate loss PNL due to bad LONG alphas. As shown by the result above, it leads to a -23% loss."
   ]
  },
  {
   "cell_type": "markdown",
   "id": "bd6e70e4",
   "metadata": {},
   "source": [
    "\n",
    "## **Statistical analysis on skew :**"
   ]
  },
  {
   "cell_type": "markdown",
   "id": "5fd8c177",
   "metadata": {},
   "source": [
    "On this part we focus on skew analysis to build alpha"
   ]
  },
  {
   "cell_type": "markdown",
   "id": "13dacbae",
   "metadata": {},
   "source": [
    "### **4th strategy**:\n",
    "\n",
    "### **Risk Reversal Delta 25**"
   ]
  },
  {
   "cell_type": "markdown",
   "id": "770abdde",
   "metadata": {},
   "source": [
    "This strategy is based on the risk reversal statistic, which compares the implied volatility of the 25-delta put with the 25-delta call.\n",
    "\n",
    "The chosen strategy is:\n",
    "\n",
    "- **LONG signal:**  \n",
    "  If (RR25 – average historical RV > threshold) AND (last 3 IV days are decreasing) → **LONG**\n",
    "\n",
    "- **SHORT signal:**  \n",
    "  If (RR25 is decreasing over the last 3 days) AND (RR25 – last RR25 > threshold)  → **SHORT**\n",
    "  (If RR25 decreases for three consecutive days, but the difference between today’s RR25 and yesterday’s RR25 becomes smaller, then we take a SHORT signal)\n",
    "\n",
    "\n",
    "PERFORMANCE ON DF_TRAIN : 52.67% accuracy on LONG (>38%) and 71.29% accuracy on SHORT (>62%)"
   ]
  },
  {
   "cell_type": "code",
   "execution_count": 21,
   "id": "61a50f3a",
   "metadata": {},
   "outputs": [],
   "source": [
    "from strategy.statistical_strat import Statistical_strat4"
   ]
  },
  {
   "cell_type": "code",
   "execution_count": 22,
   "id": "e0eb6fa0",
   "metadata": {},
   "outputs": [],
   "source": [
    "stat_strat4 = Statistical_strat4(data)\n",
    "back = Backtester(data,stat_strat4)"
   ]
  },
  {
   "cell_type": "code",
   "execution_count": 23,
   "id": "f8d95c43",
   "metadata": {},
   "outputs": [
    {
     "name": "stdout",
     "output_type": "stream",
     "text": [
      "================================================================================\n",
      "IV vs RV BACKTEST RESULTS - TRAIN SET\n",
      "================================================================================\n",
      "Total trades: 657\n",
      "LONG trades: 131 - (RV > IV) Success rate: 52.67% versus 38% in df_train\n",
      "SHORT trades: 526 - (RV < IV) Success rate: 71.29% versus 62% in df_train\n",
      "OVERALL success rate: 67.58%\n",
      "\n",
      "================================================================================\n",
      "IV vs RV BACKTEST RESULTS - VALIDATION SET\n",
      "================================================================================\n",
      "Total trades: 129\n",
      "LONG trades: 31 - (RV > IV) Success rate: 45.16% versus 25% in df_validation\n",
      "SHORT trades: 98 - (RV < IV) Success rate: 79.59% versus 75% in df_validation\n",
      "OVERALL success rate: 71.32%\n",
      "================================================================================\n"
     ]
    }
   ],
   "source": [
    "back.run_backtest_IVvsRV() # IV under RV over and IV over RV under"
   ]
  },
  {
   "cell_type": "code",
   "execution_count": 24,
   "id": "684c3d36",
   "metadata": {},
   "outputs": [
    {
     "name": "stdout",
     "output_type": "stream",
     "text": [
      "Result on df_train : PNL:271.02061749902936, ROI:4.354521328285516 %\n"
     ]
    }
   ],
   "source": [
    "back.run_backtest_train()"
   ]
  },
  {
   "cell_type": "code",
   "execution_count": 25,
   "id": "4feddb90",
   "metadata": {},
   "outputs": [
    {
     "name": "stdout",
     "output_type": "stream",
     "text": [
      "Result on df_validation : PNL:54.227469398688385, ROI:5.58205890090054 %\n"
     ]
    }
   ],
   "source": [
    "back.run_backtest_validation()"
   ]
  },
  {
   "cell_type": "markdown",
   "id": "d248952a",
   "metadata": {},
   "source": [
    "**Observation** : This Risk Reversal strategy outperformed the market and was able to generate a positive PnL on the validation sample (df_validation)."
   ]
  },
  {
   "cell_type": "markdown",
   "id": "6af5d913",
   "metadata": {},
   "source": [
    "### **5th strategy**:\n",
    "### **Regression network : Strategy based on a linear regression between implied volatility (IV) and realized volatility (RV)**"
   ]
  },
  {
   "cell_type": "markdown",
   "id": "7ad80d44",
   "metadata": {},
   "source": [
    "The strategy takes advantage of differences between implied volatility (IV) and realized volatility (RV) to find trading opportunities. For each option, the last 10 dates are considered, and a linear regression between IV and RV is performed to extract the slope, which reflects the recent trend. Here is the momentum strategy we have chosen **based on what worked best during the backtesting**  :\n",
    "\n",
    "- **LONG signal:**  \n",
    "  If (the IV slope is above the 80th percentile of past slopes) **and** (the RV slope is below the 20th percentile), IV is overestimated compared to RV, and the strategy goes **LONG**.\n",
    "\n",
    "- **SHORT signal:**  \n",
    "  Conversely, if (the IV slope is below the 20th percentile) **and** (the RV slope is above the 80th percentile), IV is underestimated compared to RV, and the strategy goes **SHORT**.\n",
    "\n",
    "The strategy exploits recent imbalances between implied and realized volatility, buying when the market overestimates volatility and selling when it underestimates it.\n"
   ]
  },
  {
   "cell_type": "markdown",
   "id": "4e66c874",
   "metadata": {},
   "source": [
    "**DRAWBACK** : The main drawback of this strategy is that IV is aggregated using a simple daily average (by quote_date of the straddle). As a result, the strategy does not capture the term structure of volatility. The slope obtained from the regression over the last nb_period days only reflects the average IV trend, which is then compared to realized volatility (standard deviation of returns over the last nb_period days), calculated in the same way.\n",
    "\n",
    "To sum up, the strategy does not take into account the term structure of straddles during the backtest. Moreover, the choice of quantiles was arbitrary, based on exploratory data analysis, and the window size (nb_period = 10) was also chosen in the same way."
   ]
  },
  {
   "cell_type": "code",
   "execution_count": 6,
   "id": "660ac37b",
   "metadata": {},
   "outputs": [],
   "source": [
    "regrv = Regression_realvol(data, 10)\n",
    "regiv = Regression_IV(data, 10)\n",
    "regivrv = Regression_IVvsRV(regiv, regrv, data, 10)"
   ]
  },
  {
   "cell_type": "code",
   "execution_count": 7,
   "id": "54e7b6b7",
   "metadata": {},
   "outputs": [],
   "source": [
    "back = Backtester(data,regivrv)"
   ]
  },
  {
   "cell_type": "code",
   "execution_count": 8,
   "id": "464a1eb1",
   "metadata": {},
   "outputs": [
    {
     "name": "stdout",
     "output_type": "stream",
     "text": [
      "================================================================================\n",
      "IV vs RV BACKTEST RESULTS - TRAIN SET\n",
      "================================================================================\n",
      "Total trades: 850\n",
      "LONG trades: 202 - (RV > IV) Success rate: 43.56% versus 38% in df_train\n",
      "SHORT trades: 648 - (RV < IV) Success rate: 64.51% versus 62% in df_train\n",
      "OVERALL success rate: 59.53%\n",
      "\n",
      "================================================================================\n",
      "IV vs RV BACKTEST RESULTS - VALIDATION SET\n",
      "================================================================================\n",
      "Total trades: 14\n",
      "LONG trades: 5 - (RV > IV) Success rate: 100.00% versus 25% in df_validation\n",
      "SHORT trades: 9 - (RV < IV) Success rate: 100.00% versus 75% in df_validation\n",
      "OVERALL success rate: 100.00%\n",
      "================================================================================\n"
     ]
    }
   ],
   "source": [
    "back.run_backtest_IVvsRV() # IV under RV over and IV over RV under"
   ]
  },
  {
   "cell_type": "code",
   "execution_count": 29,
   "id": "afdbe842",
   "metadata": {},
   "outputs": [
    {
     "name": "stdout",
     "output_type": "stream",
     "text": [
      "Result on df_train : PNL:127.29262945552922, ROI:1.5535199632836612 %\n"
     ]
    }
   ],
   "source": [
    "back.run_backtest_train()"
   ]
  },
  {
   "cell_type": "code",
   "execution_count": 30,
   "id": "cc76e0b4",
   "metadata": {},
   "outputs": [
    {
     "name": "stdout",
     "output_type": "stream",
     "text": [
      "Result on df_validation : PNL:26.74093148660205, ROI:23.681306665428668 %\n"
     ]
    }
   ],
   "source": [
    "back.run_backtest_validation()"
   ]
  },
  {
   "cell_type": "markdown",
   "id": "aa7fd579",
   "metadata": {},
   "source": [
    "**Observation** : The model really well performed but over only 14 position, the strategy is much too conservative. "
   ]
  },
  {
   "cell_type": "markdown",
   "id": "89ca9392",
   "metadata": {},
   "source": [
    "------"
   ]
  },
  {
   "cell_type": "markdown",
   "id": "5acfcfa0",
   "metadata": {},
   "source": [
    "-----"
   ]
  },
  {
   "cell_type": "markdown",
   "id": "5eb72ee9",
   "metadata": {},
   "source": [
    "# **Garch strat**"
   ]
  },
  {
   "cell_type": "markdown",
   "id": "fea287e8",
   "metadata": {},
   "source": [
    "This strategy uses a GARCH(1,1) model to predict the realized volatility of the underlying.\n",
    "I trade only when the predicted volatility is either higher than all implied volatilities (IVs) or lower than all IVs.\n",
    "\n",
    "- **LONG signal:**  \n",
    "  If predicted vol < all IVs and the option IV is in the lowest quartile → **LONG**.\n",
    "\n",
    "- **SHORT signal:**  \n",
    "  If predicted vol > all IVs and the option IV is in the highest quartile → **SHORT**.\n",
    "\n",
    "The goal is to exploit extreme situations where model forecasts strongly disagree with market IVs. The strategy is calibrated on a rolling window of spot prices using a GARCH model.\n",
    "It was then adapted and tuned to perform on df_validation, after training the GARCH on sliding spot data.\n",
    "\n",
    "**Remark and observation** : We notice that as the filter criteria applied to the straddles become stricter, the success rate gradually decreases (48% → 46% → 45% → 41% of correct signals, see ***exploratory_analysis.ipynb***), while the number of trades in the filtered universe remains reasonable. The results thus become inconsistent with the strategy’s intuition. It is therefore better to use the **inverse** signal of the strategy."
   ]
  },
  {
   "cell_type": "code",
   "execution_count": 9,
   "id": "cfba4b08",
   "metadata": {},
   "outputs": [],
   "source": [
    "from strategy.garch_strat import Garch_strat"
   ]
  },
  {
   "cell_type": "code",
   "execution_count": 10,
   "id": "8e7aa0d8",
   "metadata": {},
   "outputs": [],
   "source": [
    "stratgarch = Garch_strat(data)\n",
    "back = Backtester(data,stratgarch)"
   ]
  },
  {
   "cell_type": "code",
   "execution_count": 11,
   "id": "ef788b94",
   "metadata": {},
   "outputs": [
    {
     "name": "stdout",
     "output_type": "stream",
     "text": [
      "Result on df_validation : PNL:433.83298361478785, ROI:14.611352865796196 %\n"
     ]
    }
   ],
   "source": [
    "back.run_backtest_validation()"
   ]
  },
  {
   "cell_type": "markdown",
   "id": "d3fa7721",
   "metadata": {},
   "source": [
    "The strategy has well performed on df_validation because it was tuned on it"
   ]
  },
  {
   "cell_type": "markdown",
   "id": "afe75b3c",
   "metadata": {},
   "source": [
    "---"
   ]
  },
  {
   "cell_type": "markdown",
   "id": "d3ca2058",
   "metadata": {},
   "source": [
    "---"
   ]
  },
  {
   "cell_type": "markdown",
   "id": "0e0a400a",
   "metadata": {},
   "source": [
    "# **Regime Switching strategy : statistical strat (model free) and Markov regime switching (HMM)**"
   ]
  },
  {
   "cell_type": "markdown",
   "id": "253915cd",
   "metadata": {},
   "source": [
    "The idea of the strategies are to exploit sudden regime shifts to build a signal that identifies whether an option is underpriced or overpriced, based on its phase shift relative to the realized volatility. \n",
    "\n",
    "An asset’s volatility (whether realized volatility or implied volatility) does not evolve uniformly. It alternates between different “states” or “regimes” (e.g., High Vol / Low Vol), each with its own statistical characteristics.\n",
    "\n",
    "Retained Strategy : exploit these moments of sudden phase shifts to create a signal:\n",
    "\n",
    "\n",
    "- If RV suddenly rises but IV lags → the options market underestimates the volatility regime: **LONG** volatility opportunity.\n",
    "\n",
    "- If RV suddenly drops → one could think the straddles are probably overpriced: **SHORT** volatility opportunity."
   ]
  },
  {
   "cell_type": "markdown",
   "id": "be974b17",
   "metadata": {},
   "source": [
    "### **First Strategy: Regime identification using thresholds (Free-Model and Non-Parametric Approach)**\n",
    "\n",
    "The first strategy we designed to model volatility regime shifts is a purely statistical, non-parametric approach. \n",
    "The idea is to identify volatility regimes using thresholds rather than relying on parametric models.  \n",
    "\n",
    "For each option, we compute the daily **log-return** and compare it with the **10-day historical volatility**.  \n",
    "The trading signal is then constructed as follows:  \n",
    "\n",
    "- **High-volatility regime (LONG signal):**  \n",
    "  If $|\\text{log return}| > \\text{threshold}_{high} \\times \\text{vol}_{10d}$,  \n",
    "  the market signals a regime shift into a high-volatility state → **LONG straddle**.  \n",
    "\n",
    "- **Low-volatility regime (SHORT signal):**  \n",
    "  If $|\\text{log return}| < \\text{threshold}_{low} \\times \\text{vol}_{10d}$,  \n",
    "  the market signals a regime shift into a low-volatility state → **SHORT straddle**.  \n",
    "\n",
    "The thresholds ($\\text{threshold}_{high}, \\text{threshold}_{low}$) are calibrated in the \n",
    "`exploratory_analysis.ipynb` notebook using the training dataset **df_train**.\n"
   ]
  },
  {
   "cell_type": "code",
   "execution_count": null,
   "id": "3e244e40",
   "metadata": {},
   "outputs": [],
   "source": [
    "from strategy.regime_switching_strat import Regime_switching_modelfree"
   ]
  },
  {
   "cell_type": "code",
   "execution_count": 32,
   "id": "1313bbcc",
   "metadata": {},
   "outputs": [
    {
     "name": "stderr",
     "output_type": "stream",
     "text": [
      "d:\\Users\\Jason\\Desktop\\ALPHA projet\\strategy\\regime_switching_strat.py:33: UserWarning: Boolean Series key will be reindexed to match DataFrame index.\n",
      "  df_train_sub = df_train_sub[self.market_data.df_train['Date'] > \" 2016-03-01\"].copy()\n"
     ]
    }
   ],
   "source": [
    "reg_switch_freemod = Regime_switching_modelfree(data)\n",
    "back = Backtester(data,reg_switch_freemod)"
   ]
  },
  {
   "cell_type": "code",
   "execution_count": 33,
   "id": "1183fad0",
   "metadata": {},
   "outputs": [
    {
     "name": "stdout",
     "output_type": "stream",
     "text": [
      "================================================================================\n",
      "IV vs RV BACKTEST RESULTS - TRAIN SET\n",
      "================================================================================\n",
      "Total trades: 1209\n",
      "LONG trades: 117 - (RV > IV) Success rate: 60.68% versus 38% in df_train\n",
      "SHORT trades: 1092 - (RV < IV) Success rate: 63.74% versus 62% in df_train\n",
      "OVERALL success rate: 63.44%\n",
      "\n",
      "================================================================================\n",
      "IV vs RV BACKTEST RESULTS - VALIDATION SET\n",
      "================================================================================\n",
      "Total trades: 232\n",
      "LONG trades: 5 - (RV > IV) Success rate: 40.00% versus 25% in df_validation\n",
      "SHORT trades: 227 - (RV < IV) Success rate: 62.11% versus 75% in df_validation\n",
      "OVERALL success rate: 61.64%\n",
      "================================================================================\n"
     ]
    }
   ],
   "source": [
    "back.run_backtest_IVvsRV()"
   ]
  },
  {
   "cell_type": "code",
   "execution_count": 34,
   "id": "40c5c5d3",
   "metadata": {},
   "outputs": [
    {
     "name": "stdout",
     "output_type": "stream",
     "text": [
      "Result on df_train : PNL:-290.3683528327171, ROI:-2.6202840830417102 %\n"
     ]
    }
   ],
   "source": [
    "back.run_backtest_train()"
   ]
  },
  {
   "cell_type": "code",
   "execution_count": 35,
   "id": "6256d0a6",
   "metadata": {},
   "outputs": [
    {
     "name": "stdout",
     "output_type": "stream",
     "text": [
      "Result on df_validation : PNL:122.14688399753324, ROI:7.107306718658298 %\n"
     ]
    }
   ],
   "source": [
    "back.run_backtest_validation()"
   ]
  },
  {
   "cell_type": "markdown",
   "id": "720c6145",
   "metadata": {},
   "source": [
    "**Observation** : The model performed well on the long trades, but it only executed 5 trades, making the strategy too conservative. However, during the validation phase, its accuracy was lower than the one obtained a posteriori. However the PNL remain positif"
   ]
  },
  {
   "cell_type": "markdown",
   "id": "3d52e061",
   "metadata": {},
   "source": [
    "### **Second Strategy: Regime identification using gaussian HMM**  \n",
    "\n",
    "In this second part on regime-switching strategies, we apply a Hidden Markov Model (HMM) to capture volatility regimes and their transitions. The model is built with 3 states: low, middle, and high, using the hmmlearn package.\n",
    "\n",
    "After fitting the model on df_train, it outputs an n × 3 probability matrix, where each row (each date) gives the probabilities of being in each regime. This matrix is row-stochastic. To build a trading signal, we focus only on state 1 (low regime) and state 3 (high regime), with conditions: proba_low > seuil_low and proba_high > seuil_high.\n",
    "\n",
    "From the threshold calibration (see `exploratory_analysis.ipynb`), the optimized thresholds delivered 52.17% accuracy for LONG signals (vs 38% baseline) and 68.7% for SHORT signals (vs 62% baseline). These results look very promising. However, since the model involves complex parameter optimization, running the gamma scalping simulation is very time-consuming.\n",
    "\n",
    "\n",
    "The final strategy is :\n",
    "- **Low-volatility regime (SHORT signal):**  \n",
    "  If 5-day realized volatility (RV_5d) < IV and the probability of being in the low regime > threshold_low_regime = 0.86 : SHORT  \n",
    "- **Low-volatility regime (LONG signal):**  \n",
    "  If 5-day realized volatility (RV_5d) > IV and the probability of being in the low regime > threshold_high_regime = 0.7 : LONG "
   ]
  },
  {
   "cell_type": "markdown",
   "id": "85b712d8",
   "metadata": {},
   "source": [
    "RESULT ON df_validation: \n",
    "\n",
    "the model achieve However 80.79% accuracy on SHORT signals (vs 75% baseline) among 288 trades. On the other hand, no LONG trades were triggered, which suggests that the applied filter was too restrictive.\n",
    "\n",
    "The model was then retrained on the entire df_validation dataset, using all available prices up to that period (a posteriori knowledge).\n",
    "This explains the outstanding results obtained in this setup.\n",
    "\n",
    "**Converserly** : the following backtest program simulates more realistic market conditions: it trains the model on a rolling basis, gradually incorporating prices as they become available over time."
   ]
  },
  {
   "cell_type": "code",
   "execution_count": 6,
   "id": "d1ece8eb",
   "metadata": {},
   "outputs": [],
   "source": [
    "from strategy.regime_switching_strat import Regime_switching_HMM"
   ]
  },
  {
   "cell_type": "code",
   "execution_count": 7,
   "id": "9fef5fa8",
   "metadata": {},
   "outputs": [],
   "source": [
    "reg_switch_hmm = Regime_switching_HMM(data)\n",
    "back = Backtester(data,reg_switch_hmm)"
   ]
  },
  {
   "cell_type": "code",
   "execution_count": null,
   "id": "b7744fab",
   "metadata": {},
   "outputs": [],
   "source": [
    "# back.run_backtest_IVvsRV() # too long"
   ]
  },
  {
   "cell_type": "code",
   "execution_count": 8,
   "id": "a52522cb",
   "metadata": {},
   "outputs": [
    {
     "name": "stdout",
     "output_type": "stream",
     "text": [
      "Result on df_validation : PNL:-86.72638901443008, ROI:-5.923326777613642 %\n"
     ]
    }
   ],
   "source": [
    "back.run_backtest_validation()"
   ]
  },
  {
   "cell_type": "markdown",
   "id": "dcf45755",
   "metadata": {},
   "source": [
    "Unfortunately, after backtesting in real market conditions (with rolling basis training), the model failed to properly capture the volatility dynamics, it has generated -5.9% of ROI."
   ]
  }
 ],
 "metadata": {
  "kernelspec": {
   "display_name": "Python 3",
   "language": "python",
   "name": "python3"
  },
  "language_info": {
   "codemirror_mode": {
    "name": "ipython",
    "version": 3
   },
   "file_extension": ".py",
   "mimetype": "text/x-python",
   "name": "python",
   "nbconvert_exporter": "python",
   "pygments_lexer": "ipython3",
   "version": "3.10.4"
  }
 },
 "nbformat": 4,
 "nbformat_minor": 5
}
