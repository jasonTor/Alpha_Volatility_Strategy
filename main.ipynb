{
 "cells": [
  {
   "cell_type": "markdown",
   "id": "096f72b6",
   "metadata": {},
   "source": [
    "# **ALPHA VOLATILITY GENERATION - SYSTEMATIC TRADING STRATEGIES PROJECT**"
   ]
  },
  {
   "cell_type": "code",
   "execution_count": 1,
   "id": "fc8b6699",
   "metadata": {},
   "outputs": [],
   "source": [
    "import numpy as np\n",
    "from scipy.stats import norm\n",
    "import pandas as pd\n",
    "import importlib"
   ]
  },
  {
   "cell_type": "code",
   "execution_count": 2,
   "id": "e74bcac8",
   "metadata": {},
   "outputs": [],
   "source": [
    "from Data.market_data import Market_data\n",
    "from backtester import Backtester"
   ]
  },
  {
   "cell_type": "code",
   "execution_count": 3,
   "id": "bc887e85",
   "metadata": {},
   "outputs": [],
   "source": [
    "from strategy.base_strat import BaseStrategy\n",
    "from strategy.regression_network import Regression_realvol, Regression_IV, Regression_IVvsRV"
   ]
  },
  {
   "cell_type": "code",
   "execution_count": 4,
   "id": "72bda04f",
   "metadata": {},
   "outputs": [],
   "source": [
    "df_train = pd.read_pickle(\"df_train.pkl\")\n",
    "df_validation = pd.read_pickle(\"df_validation.pkl\")\n",
    "df_test = pd.read_pickle(\"df_test.pkl\")\n",
    "df_price = pd.read_pickle(\"df_price.pkl\")\n",
    "df_option = pd.read_pickle(\"df_merged.pkl\")"
   ]
  },
  {
   "cell_type": "code",
   "execution_count": 5,
   "id": "88465edb",
   "metadata": {},
   "outputs": [],
   "source": [
    "data = Market_data(df_train,df_validation,df_test,df_price,df_option)"
   ]
  },
  {
   "cell_type": "markdown",
   "id": "f7b7dcad",
   "metadata": {},
   "source": [
    "----"
   ]
  },
  {
   "cell_type": "markdown",
   "id": "169bf43f",
   "metadata": {},
   "source": [
    "----"
   ]
  },
  {
   "cell_type": "markdown",
   "id": "6af5d913",
   "metadata": {},
   "source": [
    "# **Regression network : Strategy based on a linear regression between implied volatility (IV) and realized volatility (RV)**"
   ]
  },
  {
   "cell_type": "markdown",
   "id": "7ad80d44",
   "metadata": {},
   "source": [
    "The strategy takes advantage of differences between implied volatility (IV) and realized volatility (RV) to find trading opportunities. For each option, the last 10 dates are considered, and a linear regression between IV and RV is performed to extract the slope, which reflects the recent trend. Here is the momentum strategy we have chosen **based on what worked best during the backtesting**  :\n",
    "\n",
    "- If (the IV slope is above the 80th percentile of past slopes) **and** (the RV slope is below the 20th percentile), IV is overestimated compared to RV, and the strategy goes **LONG**.\n",
    "- Conversely, if (the IV slope is below the 20th percentile) **and** (the RV slope is above the 80th percentile), IV is underestimated compared to RV, and the strategy goes **SHORT**.\n",
    "\n",
    "The strategy exploits recent imbalances between implied and realized volatility, buying when the market overestimates volatility and selling when it underestimates it.\n"
   ]
  },
  {
   "cell_type": "markdown",
   "id": "4e66c874",
   "metadata": {},
   "source": [
    "**DRAWBACK** : The main drawback of this strategy is that IV is aggregated using a simple daily average (by quote_date of the straddle). As a result, the strategy does not capture the term structure of volatility. The slope obtained from the regression over the last nb_period days only reflects the average IV trend, which is then compared to realized volatility (standard deviation of returns over the last nb_period days), calculated in the same way.\n",
    "\n",
    "To sum up, the strategy does not take into account the term structure of straddles during the backtest. Moreover, the choice of quantiles was arbitrary, based on exploratory data analysis, and the window size (nb_period = 10) was also chosen in the same way."
   ]
  },
  {
   "cell_type": "code",
   "execution_count": 6,
   "id": "660ac37b",
   "metadata": {},
   "outputs": [],
   "source": [
    "regrv = Regression_realvol(data, 10)\n",
    "regiv = Regression_IV(data, 10)\n",
    "regivrv = Regression_IVvsRV(regiv, regrv, data, 10)"
   ]
  },
  {
   "cell_type": "code",
   "execution_count": 7,
   "id": "54e7b6b7",
   "metadata": {},
   "outputs": [],
   "source": [
    "back = Backtester(data,regivrv)"
   ]
  },
  {
   "cell_type": "code",
   "execution_count": 8,
   "id": "758f02f8",
   "metadata": {},
   "outputs": [
    {
     "name": "stdout",
     "output_type": "stream",
     "text": [
      "The strategy achieved a success rate of 59.53% on 850 straddle trades in df_train.\n",
      "The strategy achieved a success rate of 100.00% on 14 straddle trades in df_validation.\n",
      "None\n",
      "PNL:127.29262945552922, ROI:1.5535199632836612 %\n",
      "None\n",
      "PNL:26.74093148660205, ROI:23.681306665428668 %\n",
      "None\n"
     ]
    }
   ],
   "source": [
    "print(back.run_backtest_IVvsRV()) # IV under RV over and IV over RV under\n",
    "print(back.run_backtest_train())\n",
    "print(back.run_backtest_validation())"
   ]
  },
  {
   "cell_type": "markdown",
   "id": "89ca9392",
   "metadata": {},
   "source": [
    "------"
   ]
  },
  {
   "cell_type": "markdown",
   "id": "5acfcfa0",
   "metadata": {},
   "source": [
    "-----"
   ]
  },
  {
   "cell_type": "markdown",
   "id": "037340f9",
   "metadata": {},
   "source": [
    "# **Strategy based on skew**"
   ]
  }
 ],
 "metadata": {
  "kernelspec": {
   "display_name": "Python 3",
   "language": "python",
   "name": "python3"
  },
  "language_info": {
   "codemirror_mode": {
    "name": "ipython",
    "version": 3
   },
   "file_extension": ".py",
   "mimetype": "text/x-python",
   "name": "python",
   "nbconvert_exporter": "python",
   "pygments_lexer": "ipython3",
   "version": "3.10.4"
  }
 },
 "nbformat": 4,
 "nbformat_minor": 5
}
